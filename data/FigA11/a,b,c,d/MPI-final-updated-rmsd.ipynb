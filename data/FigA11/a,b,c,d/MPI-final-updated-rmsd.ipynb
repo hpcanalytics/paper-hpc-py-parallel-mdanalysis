{
 "cells": [
  {
   "cell_type": "code",
   "execution_count": 1,
   "metadata": {},
   "outputs": [
    {
     "name": "stderr",
     "output_type": "stream",
     "text": [
      "/Users/mahzadkhoshlessan/miniconda3/envs/ml/lib/python3.5/site-packages/matplotlib/__init__.py:846: MatplotlibDeprecationWarning: \n",
      "The text.latex.unicode rcparam was deprecated in Matplotlib 2.2 and will be removed in 3.1.\n",
      "  \"2.2\", name=key, obj_type=\"rcparam\", addendum=addendum)\n",
      "/Users/mahzadkhoshlessan/miniconda3/envs/ml/lib/python3.5/site-packages/matplotlib/__init__.py:855: MatplotlibDeprecationWarning: \n",
      "examples.directory is deprecated; in the future, examples will be found relative to the 'datapath' directory.\n",
      "  \"found relative to the 'datapath' directory.\".format(key))\n",
      "/Users/mahzadkhoshlessan/miniconda3/envs/ml/lib/python3.5/site-packages/seaborn/apionly.py:9: UserWarning: As seaborn no longer sets a default style on import, the seaborn.apionly module is deprecated. It will be removed in a future version.\n",
      "  warnings.warn(msg, UserWarning)\n"
     ]
    }
   ],
   "source": [
    "import numpy as np\n",
    "import matplotlib\n",
    "import matplotlib.pyplot as plt\n",
    "from IPython.display import display\n",
    "import sys\n",
    "import pandas as pd\n",
    "import seaborn.apionly as sns\n",
    "plt.style.use('ggplot')\n",
    "sns.set_style('ticks')\n",
    "import re\n",
    "import matplotlib.ticker as ticker\n",
    "# Enable inline plotting  \n",
    "%matplotlib inline"
   ]
  },
  {
   "cell_type": "code",
   "execution_count": 2,
   "metadata": {},
   "outputs": [
    {
     "name": "stdout",
     "output_type": "stream",
     "text": [
      "Python version 3.5.5 | packaged by conda-forge | (default, Jul 23 2018, 23:45:11) \n",
      "[GCC 4.2.1 Compatible Apple LLVM 6.1.0 (clang-602.0.53)]\n",
      "Pandas version 0.23.4\n",
      "Numpy version 1.15.2\n"
     ]
    }
   ],
   "source": [
    "print ('Python version ' + sys.version)\n",
    "print ('Pandas version ' + pd.__version__)\n",
    "print ('Numpy version ' + np.__version__)"
   ]
  },
  {
   "cell_type": "markdown",
   "metadata": {},
   "source": [
    "# Output from Production Run "
   ]
  },
  {
   "cell_type": "code",
   "execution_count": 3,
   "metadata": {},
   "outputs": [],
   "source": [
    "# Data1 represents the time per rank per repeat for each component inside the RMSD function\n",
    "data1='data-comm-updated-rmsd-Bridge/data1.txt'\n",
    "# Data2 represents the timing of the different sections of the code per rank per repeat for each run \n",
    "data2='data-comm-updated-rmsd-Bridge/data2.txt'"
   ]
  },
  {
   "cell_type": "markdown",
   "metadata": {},
   "source": [
    "# Load Data"
   ]
  },
  {
   "cell_type": "code",
   "execution_count": 4,
   "metadata": {},
   "outputs": [],
   "source": [
    "# Load overal timing into a dataframe called df1 (use data1.txt)\n",
    "df1 = pd.read_csv(data1, delimiter=' ', header=None, names=['blocks', 'repeat', 'P_ID', 't_comp', 't_IO', 't_IO_plus_t_comp',\n",
    "                                                            't_end_loop', 't_init']) \n",
    "                                                            # t_init is t_opening_trajectory in the paper\n",
    "df1_copy = df1 "
   ]
  },
  {
   "cell_type": "code",
   "execution_count": 5,
   "metadata": {},
   "outputs": [],
   "source": [
    "df1 = pd.concat([df1.groupby('blocks', as_index=False).mean(), df1.groupby('blocks', as_index=False).max().loc[:,'t_IO_plus_t_comp'], \n",
    "                 df1.groupby('blocks', as_index=False).std().loc[:,['t_comp','t_IO']]],axis=1)"
   ]
  },
  {
   "cell_type": "code",
   "execution_count": 6,
   "metadata": {},
   "outputs": [],
   "source": [
    "df1.columns = ['blocks', 'repeat', 'P_ID', 't_comp', 't_IO', 't_IO_plus_t_comp_mean','t_end_loop', 't_init', \n",
    "               't_IO_plus_t_comp_max','std_comp','std_IO']"
   ]
  },
  {
   "cell_type": "code",
   "execution_count": 7,
   "metadata": {},
   "outputs": [],
   "source": [
    "f = open(data2, 'r')\n",
    "l = f.readlines()"
   ]
  },
  {
   "cell_type": "markdown",
   "metadata": {},
   "source": [
    "# Data Preparation"
   ]
  },
  {
   "cell_type": "code",
   "execution_count": 8,
   "metadata": {},
   "outputs": [],
   "source": [
    "def Flatten(TheList):\n",
    "    a = str(TheList)\n",
    "    b,crap = re.subn(r'(\\]|\\[)', '\\n', a)\n",
    "    c = b.split('\\n')\n",
    "\n",
    "    return(c)"
   ]
  },
  {
   "cell_type": "code",
   "execution_count": 9,
   "metadata": {},
   "outputs": [],
   "source": [
    "def Flatten1(TheList):\n",
    "    a = TheList\n",
    "    b,crap = re.subn(r',', '', a)\n",
    "\n",
    "    return(b)"
   ]
  },
  {
   "cell_type": "code",
   "execution_count": 10,
   "metadata": {},
   "outputs": [],
   "source": [
    "## Some modification to the input format to convert it to the desired format\n",
    "\n",
    "l1 = []\n",
    "for l_i in l:\n",
    "    d = Flatten(l_i)\n",
    "    b = []\n",
    "    for lng in range(len(d)):\n",
    "        if(len(d[lng])>1):b.append(d[lng])      \n",
    "       \n",
    "    b1 = Flatten1(b[1])   \n",
    "    b1 = list(map(float, b1.split()))\n",
    "    a1 = b[0].split(' ')\n",
    "    a1.remove('')\n",
    "    a1 = list(map(int, a1))\n",
    "    l1.append((a1 + b1))"
   ]
  },
  {
   "cell_type": "markdown",
   "metadata": {},
   "source": [
    "# Data Post-Processing"
   ]
  },
  {
   "cell_type": "code",
   "execution_count": 11,
   "metadata": {},
   "outputs": [],
   "source": [
    "# Load timing per N_p per repeat into a dataframe called df2 (use data2.txt)\n",
    "df2 = pd.DataFrame(l1, index=None, columns=None)"
   ]
  },
  {
   "cell_type": "code",
   "execution_count": 12,
   "metadata": {},
   "outputs": [],
   "source": [
    "# df_t_total, df_comm, df_comp contains timing for all ranks across all repeats and all N_p\n",
    "ind = []                # Indices for Total number of ranks and repeat\n",
    "df_comm = []            # Communication time \n",
    "df_comp = []            # Compute time\n",
    "df_t_total = []         # Total time for the task\n",
    "for name, group in df2.groupby([0,1]):\n",
    "    group.index = range(6)\n",
    "    ind.append(group.iloc[0,:1])\n",
    "    df_t_total.append(group.iloc[0,2:])\n",
    "    df_comm.append(group.loc[3])\n",
    "    df_comp.append(group.loc[5])"
   ]
  },
  {
   "cell_type": "code",
   "execution_count": 13,
   "metadata": {},
   "outputs": [],
   "source": [
    "# Communication time averaged over all ranks for each run\n",
    "df_comm1 = pd.DataFrame(df_comm).loc[2:].groupby(0, as_index=False).mean()  "
   ]
  },
  {
   "cell_type": "code",
   "execution_count": 14,
   "metadata": {},
   "outputs": [],
   "source": [
    "# Compute time averaged over all ranks for each run\n",
    "df_comp1 = pd.DataFrame(df_comp).loc[2:].groupby(0, as_index=False).mean()"
   ]
  },
  {
   "cell_type": "code",
   "execution_count": 15,
   "metadata": {},
   "outputs": [],
   "source": [
    "# Total time averaged over all repeats for each N_p\n",
    "df_t_tot1 = pd.concat([pd.DataFrame(ind, index=range(len(ind))), \n",
    "                       pd.DataFrame(df_t_total, index=range(len(ind)))], axis=1).loc[2:].groupby(0, as_index=False).mean() "
   ]
  },
  {
   "cell_type": "code",
   "execution_count": 16,
   "metadata": {},
   "outputs": [],
   "source": [
    "# Total time for each repeat and each N_p\n",
    "df_t_tot_rank = pd.concat([pd.DataFrame(ind, index=range(len(ind))), pd.DataFrame(df_t_total, index=range(len(ind)))], axis=1)"
   ]
  },
  {
   "cell_type": "code",
   "execution_count": 17,
   "metadata": {},
   "outputs": [],
   "source": [
    "# Communication time for each repeat and each N_p\n",
    "df_comm_rank = pd.DataFrame(df_comm, index=range(len(ind)))"
   ]
  },
  {
   "cell_type": "code",
   "execution_count": 18,
   "metadata": {},
   "outputs": [],
   "source": [
    "# Compute time for each repeat and each N_p\n",
    "df_comp_rank = pd.DataFrame(df_comp, index=range(len(ind)))"
   ]
  },
  {
   "cell_type": "code",
   "execution_count": 19,
   "metadata": {},
   "outputs": [],
   "source": [
    "# Max value of each timing across all ranks per N_p per repeat \n",
    "df_max_Np = df1_copy.groupby(['blocks','repeat'], as_index=False).max() "
   ]
  },
  {
   "cell_type": "code",
   "execution_count": 20,
   "metadata": {},
   "outputs": [],
   "source": [
    "# Max value of each timing across all ranks per N_p per repeat AVERAGED OVER REPEATS\n",
    "df_avg_repeat = df_max_Np.groupby('blocks', as_index=False).mean()"
   ]
  },
  {
   "cell_type": "code",
   "execution_count": 21,
   "metadata": {},
   "outputs": [],
   "source": [
    "# Standard deviation for df_avg_repeat\n",
    "df_std_repeat = df_max_Np.groupby('blocks', as_index=False).std().drop(['blocks','repeat','P_ID'],axis=1)\n",
    "df_std_repeat.columns = ['std_t_comp','std_t_IO','std_t_IO_plus_t_comp','std_t_end_loop','std_t_init']"
   ]
  },
  {
   "cell_type": "code",
   "execution_count": 22,
   "metadata": {},
   "outputs": [],
   "source": [
    "# Max value of communication across all ranks per N_p per repeat \n",
    "df_comm_max_repeat = pd.concat([df_comm_rank.loc[:,:1],df_comm_rank.loc[:,2:].max(axis=1)],axis=1)\n",
    "df_comm_max_repeat.columns = [0,1,2]"
   ]
  },
  {
   "cell_type": "code",
   "execution_count": 23,
   "metadata": {},
   "outputs": [],
   "source": [
    "df_comm_max_avg_repeat = df_comm_max_repeat.groupby(0, as_index=False).mean()\n",
    "df_comm_max_std_repeat = df_comm_max_repeat.groupby(0, as_index=False).std()"
   ]
  },
  {
   "cell_type": "code",
   "execution_count": 24,
   "metadata": {},
   "outputs": [],
   "source": [
    "# Concat all timing into one single dataframe.\n",
    "df_avg_repeat = pd.concat([df_avg_repeat,df_comm_max_avg_repeat[2]],axis=1)\n",
    "df_avg_repeat.columns = [u'blocks', u'repeat', u'P_ID', u't_comp', u't_IO', u't_IO_plus_t_comp',\n",
    "                         u't_end_loop', u't_init','Communication']"
   ]
  },
  {
   "cell_type": "code",
   "execution_count": 25,
   "metadata": {},
   "outputs": [],
   "source": [
    "# Calculate standard deviation for all timings in df_avg_repeat\n",
    "df_std_repeat = df_max_Np.groupby('blocks', as_index=False).std().drop(['blocks','repeat','P_ID'],axis=1)\n",
    "df_std_repeat = pd.concat([df_std_repeat,df_comm_max_std_repeat[2]],axis=1)\n",
    "df_std_repeat.columns = ['std_t_comp','std_t_IO','std_t_IO_plus_t_comp','std_t_end_loop','std_t_init','std_comm'] "
   ]
  },
  {
   "cell_type": "code",
   "execution_count": 26,
   "metadata": {},
   "outputs": [],
   "source": [
    "# Concat timing values and calculated standard deviation into one dataframe.\n",
    "dff = pd.concat([df_avg_repeat,df_std_repeat],axis=1)"
   ]
  },
  {
   "cell_type": "code",
   "execution_count": 27,
   "metadata": {},
   "outputs": [],
   "source": [
    "# Compute time averaged over all ranks for each repeat and N_p\n",
    "df_comp2 = pd.DataFrame(df_comp, index=range(len(ind))).loc[:,2:].mean(axis=1)"
   ]
  },
  {
   "cell_type": "code",
   "execution_count": 28,
   "metadata": {},
   "outputs": [],
   "source": [
    "# Communication time averaged over all ranks for each repeat and N_p\n",
    "df_comm2 = pd.DataFrame(df_comm, index=range(len(ind))).loc[:,2:].mean(axis=1)"
   ]
  },
  {
   "cell_type": "code",
   "execution_count": 29,
   "metadata": {},
   "outputs": [],
   "source": [
    "# Max total time of all ranks for each repeat and N_p\n",
    "df_t_tot = pd.concat([pd.DataFrame(ind, index=range(len(ind)), dtype=int), pd.DataFrame(df_t_total, index=range(len(ind))).max(axis=1)], axis=1)"
   ]
  },
  {
   "cell_type": "code",
   "execution_count": 30,
   "metadata": {},
   "outputs": [],
   "source": [
    "df_t_tot.columns = ['size', 't_tot_max']"
   ]
  },
  {
   "cell_type": "code",
   "execution_count": 31,
   "metadata": {},
   "outputs": [],
   "source": [
    "# Combine df_comm2, df_comp2 into df_time\n",
    "df_time = pd.concat([pd.DataFrame(ind, index=range(len(ind)), dtype=int),df_comm2, df_comp2], axis=1)\n",
    "df_time.columns = ['size','Communication Time', 'RMSD time']"
   ]
  },
  {
   "cell_type": "code",
   "execution_count": 32,
   "metadata": {
    "scrolled": true
   },
   "outputs": [],
   "source": [
    "a = pd.concat([df_t_tot, df_comm2, df_comp2], axis=1)"
   ]
  },
  {
   "cell_type": "code",
   "execution_count": 33,
   "metadata": {},
   "outputs": [],
   "source": [
    "df_time = df_time.groupby('size',as_index=False).mean()"
   ]
  },
  {
   "cell_type": "code",
   "execution_count": 34,
   "metadata": {},
   "outputs": [],
   "source": [
    "df_time['overhead'] = abs(df_time['RMSD time']-df1['t_IO_plus_t_comp_max'])"
   ]
  },
  {
   "cell_type": "code",
   "execution_count": 35,
   "metadata": {},
   "outputs": [],
   "source": [
    "df_t_tot_final = pd.concat([df_t_tot.groupby('size', as_index=False).mean(),df_t_tot.groupby('size', as_index=False).std().iloc[:,1]], axis=1)"
   ]
  },
  {
   "cell_type": "code",
   "execution_count": 36,
   "metadata": {},
   "outputs": [],
   "source": [
    "df_t_tot_final.columns = ['size', 't_tot_max', 'std_tot_max']"
   ]
  },
  {
   "cell_type": "code",
   "execution_count": 37,
   "metadata": {},
   "outputs": [],
   "source": [
    "df6 = pd.concat([df2.loc[:,:1], df2.loc[:,2:].mean(axis=1), df2.loc[:,2:].std(axis=1), df2.loc[:,2:].max(axis=1)], axis=1)\n",
    "df6.columns = ['size', 'repeat', 't_mean', 'std_t_mean', 't_max']"
   ]
  },
  {
   "cell_type": "code",
   "execution_count": 38,
   "metadata": {},
   "outputs": [],
   "source": [
    "a = []\n",
    "b = []\n",
    "for name, group in df6.groupby(['size', 'repeat']):\n",
    "    group.index = range(6)\n",
    "    a.append(group.iloc[3,:])\n",
    "    b.append(group.iloc[5,:])"
   ]
  },
  {
   "cell_type": "code",
   "execution_count": 39,
   "metadata": {},
   "outputs": [],
   "source": [
    "a = pd.concat([pd.DataFrame(a, index=range(len(a))),pd.DataFrame(b, index=range(len(b))).loc[:,['t_mean', 'std_t_mean', 't_max']]], axis=1)"
   ]
  },
  {
   "cell_type": "code",
   "execution_count": 40,
   "metadata": {},
   "outputs": [],
   "source": [
    "a.columns = ['size', 'repeat', 't_comm_mean', 'std_t_comm', 't_comm_max', 't_block_RMSD_mean', 'std_t_block_RMSD', 't_block_RMSD_max']"
   ]
  },
  {
   "cell_type": "code",
   "execution_count": 41,
   "metadata": {},
   "outputs": [],
   "source": [
    "a_final = pd.concat([a.groupby('size', as_index=False).mean().loc[:,['t_comm_mean', 't_comm_max', 't_block_RMSD_mean', 't_block_RMSD_max']], \n",
    "                     a.groupby('size', as_index=False).std().loc[:,['t_comm_mean', 't_comm_max', 't_block_RMSD_mean', 't_block_RMSD_max']]], \n",
    "                     axis=1)"
   ]
  },
  {
   "cell_type": "code",
   "execution_count": 42,
   "metadata": {},
   "outputs": [],
   "source": [
    "a_final.columns = ['t_comm_mean', 't_comm_max', 't_block_RMSD_mean', 't_block_RMSD_max', 'std_t_comm_mean', 'std_t_comm_max', \n",
    "                   'std_t_block_RMSD_mean', 'std_t_block_RMSD_max']"
   ]
  },
  {
   "cell_type": "code",
   "execution_count": 43,
   "metadata": {},
   "outputs": [],
   "source": [
    "df7 = pd.concat([df1, df_t_tot_final.loc[:,['t_tot_max', 'std_tot_max']], a_final], axis=1)"
   ]
  },
  {
   "cell_type": "code",
   "execution_count": 44,
   "metadata": {},
   "outputs": [],
   "source": [
    "df7['speed_up'] = df7.loc[0,'t_tot_max']/df7.loc[:,'t_tot_max']\n",
    "df7['std_S'] = ((df7.loc[0,'std_tot_max']/df7.loc[:,'t_tot_max'])**2+\n",
    "                (df7.loc[0,'t_tot_max']*df7.loc[:,'std_tot_max']/df7.loc[:,'t_tot_max']**2)**2)**0.5"
   ]
  },
  {
   "cell_type": "code",
   "execution_count": 45,
   "metadata": {},
   "outputs": [],
   "source": [
    "df7['efficiency'] = df7.loc[:,'speed_up']/df7.loc[:,'blocks']\n",
    "df7['std_E'] = df7['std_S']/df7['blocks']"
   ]
  },
  {
   "cell_type": "code",
   "execution_count": 46,
   "metadata": {},
   "outputs": [],
   "source": [
    "df7['Ideal_Scaling'] = df7['blocks']\n",
    "df7['Ideal_Efficiency'] = 1."
   ]
  },
  {
   "cell_type": "markdown",
   "metadata": {
    "toc-hr-collapsed": true
   },
   "source": [
    "# Output Post-processed DataFrames"
   ]
  },
  {
   "cell_type": "markdown",
   "metadata": {},
   "source": [
    "## Output Calculated Timings Inside RMSD Block "
   ]
  },
  {
   "cell_type": "code",
   "execution_count": null,
   "metadata": {},
   "outputs": [],
   "source": [
    "dff.to_csv('dff-comm-updated-rmsd-Bridge.csv')"
   ]
  },
  {
   "cell_type": "markdown",
   "metadata": {},
   "source": [
    "## Output Calculated Timing for Different Sections of the Code"
   ]
  },
  {
   "cell_type": "code",
   "execution_count": null,
   "metadata": {},
   "outputs": [],
   "source": [
    "df7.to_csv('df7-comm-updated-rmsd-Bridge.csv')"
   ]
  },
  {
   "cell_type": "markdown",
   "metadata": {},
   "source": [
    "# Plot the Data"
   ]
  },
  {
   "cell_type": "code",
   "execution_count": 50,
   "metadata": {},
   "outputs": [
    {
     "name": "stderr",
     "output_type": "stream",
     "text": [
      "/Users/mahzadkhoshlessan/miniconda3/envs/ml/lib/python3.5/site-packages/ipykernel_launcher.py:11: SettingWithCopyWarning: \n",
      "A value is trying to be set on a copy of a slice from a DataFrame\n",
      "\n",
      "See the caveats in the documentation: http://pandas.pydata.org/pandas-docs/stable/indexing.html#indexing-view-versus-copy\n",
      "  # This is added back by InteractiveShellApp.init_path()\n",
      "/Users/mahzadkhoshlessan/miniconda3/envs/ml/lib/python3.5/site-packages/numpy/core/numeric.py:501: UserWarning: Warning: converting a masked element to nan.\n",
      "  return array(a, dtype, copy=False, order=order)\n",
      "/Users/mahzadkhoshlessan/miniconda3/envs/ml/lib/python3.5/site-packages/ipykernel_launcher.py:21: UserWarning: Attempted to set non-positive bottom ylim on a log-scaled axis.\n",
      "Invalid limit will be ignored.\n"
     ]
    },
    {
     "data": {
      "image/png": "[encoded data removed]",
      "text/plain": [
       "<Figure size 288x288 with 1 Axes>"
      ]
     },
     "metadata": {},
     "output_type": "display_data"
    }
   ],
   "source": [
    "from matplotlib.pyplot import *\n",
    "import matplotlib\n",
    "plt.rcParams['font.size'] = 9\n",
    "fig = plt.figure(figsize=(4,4))\n",
    "axes = fig.add_subplot(1,1,1)\n",
    "\n",
    "yerrs = [df_std_repeat['std_t_IO'].values.transpose().tolist(),df_std_repeat['std_t_comp'].values.transpose().tolist(),\n",
    "         df_std_repeat['std_t_init'].values.transpose().tolist(),df_std_repeat['std_comm'].values.transpose().tolist()]\n",
    "\n",
    "df_avg_repeat.index = df_avg_repeat.loc[:,'blocks']\n",
    "df_avg_repeat['Communication'][1] = np.nan\n",
    "df_avg_repeat.loc[:,['t_IO','t_comp','t_init','Communication']].plot(color=['blue','yellow','grey','red'],yerr=yerrs,ax=axes) \n",
    "\n",
    "plt.style.use('ggplot')\n",
    "sns.set_style('ticks')\n",
    "axes.set_xlabel('$N_{Processes}$')   \n",
    "axes.set_ylabel('Time (s)')\n",
    "plt.xscale('log')\n",
    "plt.yscale('log')\n",
    "\n",
    "axes.set_ylim(0, 1000)\n",
    "axes.set_xlim(1, 100)\n",
    "axes.yaxis.grid(which='major', linewidth='0.5', color='grey')\n",
    "axes.xaxis.grid(which='major', linewidth='0.5', color='grey')\n",
    "axes.yaxis.grid(which='minor', linewidth='0.5', color='grey')\n",
    "axes.xaxis.grid(which='minor', linewidth='0.5', color='grey') \n",
    "sns.despine(offset=10, ax=axes)\n",
    "\n",
    "lgd = plt.legend(['IO','Compute','Opening Trajectory','Communication'],loc='upper center', bbox_to_anchor=(0.43, -0.38),\n",
    "                 frameon=False, shadow=False, ncol=2, prop={'size':12})\n",
    "plt.tight_layout()\n",
    "fig.subplots_adjust(bottom=0.4)\n",
    "\n",
    "fig.savefig('{}.pdf'.format('time_comp_IO_comparison'))"
   ]
  },
  {
   "cell_type": "code",
   "execution_count": 51,
   "metadata": {},
   "outputs": [
    {
     "data": {
      "image/png": "[encoded data removed]",
      "text/plain": [
       "<Figure size 432x288 with 1 Axes>"
      ]
     },
     "metadata": {},
     "output_type": "display_data"
    }
   ],
   "source": [
    "block = 72   # Number of processes (N_p) \n",
    "repeat = 5   # The repeat number (1-5)\n",
    "fig_name = 'BarPlot-rank-comparison_{}_{}'.format(block,repeat)\n",
    "df_comm_dist = df_comm_rank[(df_comm_rank[0]==block) & (df_comm_rank[1]==repeat)].iloc[0,2:block+2]\n",
    "df_comm_dist.index = range(2,block+2)\n",
    "df_compute_all_frame_rank = df1_copy[(df1_copy['blocks']==block) & (df1_copy['repeat']==repeat)]['t_comp']\n",
    "df_compute_all_frame_rank.index = range(2,block+2)\n",
    "df_IO_all_frame_rank = df1_copy[(df1_copy['blocks']==block) & (df1_copy['repeat']==repeat)]['t_IO']\n",
    "df_IO_all_frame_rank.index = range(2,block+2)\n",
    "df_IO_plus_comp_rank = df1_copy[(df1_copy['blocks']==block) & (df1_copy['repeat']==repeat)]['t_IO_plus_t_comp']\n",
    "df_IO_plus_comp_rank.index = range(2,block+2)\n",
    "df_clone_rank = df1_copy[(df1_copy['blocks']==block) & (df1_copy['repeat']==repeat)]['t_init']\n",
    "df_clone_rank.index = range(2,block+2)\n",
    "df_end_loop_rank = df1_copy[(df1_copy['blocks']==block) & (df1_copy['repeat']==repeat)]['t_end_loop']\n",
    "df_end_loop_rank.index = range(2,block+2)\n",
    "df_overhead1 = df_IO_plus_comp_rank.iloc[:]-df_IO_all_frame_rank.iloc[:]-df_compute_all_frame_rank.iloc[:]-df_end_loop_rank.iloc[:]\n",
    "df_overhead1.index = range(2,block+2)\n",
    "df_overhead2 = (df_comp_rank[(df_comp_rank[0]==block) & (df_comp_rank[1]==repeat)].iloc[0,2:block+2]-\n",
    "                              df_IO_plus_comp_rank.iloc[:]-df_clone_rank.iloc[:])\n",
    "df_overhead2.index = range(2,block+2)\n",
    "\n",
    "ax = df_compute_all_frame_rank.plot(kind='bar', figsize=(6,4), color='yellow', label='Compute')\n",
    "ax = df_IO_all_frame_rank.plot(kind='bar', figsize=(6,4), color='blue', label='IO', bottom = df_compute_all_frame_rank)\n",
    "ax = df_comm_dist.plot(kind='bar', figsize=(6,4), color='red', label='Communication', bottom = \n",
    "                       [df_compute_all_frame_rank.iloc[j]+df_IO_all_frame_rank.iloc[j] for j in range(len(df_compute_all_frame_rank))])\n",
    "\n",
    "ax = df_overhead2.plot(kind='bar', figsize=(6,4), color='green', label='Overhead2', bottom = \n",
    "                       [df_compute_all_frame_rank.iloc[j]+df_IO_all_frame_rank.iloc[j]+df_comm_dist.iloc[j] \n",
    "                        for j in range(len(df_compute_all_frame_rank))])\n",
    "\n",
    "ax = df_overhead1.plot(kind='bar', figsize=(6,4), color='black', label='Overhead1', bottom = \n",
    "                       [df_compute_all_frame_rank.iloc[j]+df_IO_all_frame_rank.iloc[j]+df_comm_dist.iloc[j]+\n",
    "                        df_overhead2.iloc[j] for j in range(len(df_compute_all_frame_rank))])\n",
    "\n",
    "ax = df_clone_rank.plot(kind='bar', figsize=(6,4), color='gray', label='Opening_trajectory', bottom = \n",
    "                       [df_compute_all_frame_rank.iloc[j]+df_IO_all_frame_rank.iloc[j]+df_comm_dist.iloc[j]+\n",
    "                        df_overhead2.iloc[j]+df_overhead1.iloc[j] for j in range(len(df_compute_all_frame_rank))])\n",
    "\n",
    "ax = df_end_loop_rank.plot(kind='bar', figsize=(6,4), color='pink', label='Ending_loop', bottom = \n",
    "                          [df_compute_all_frame_rank.iloc[j]+df_IO_all_frame_rank.iloc[j]+df_comm_dist.iloc[j]+\n",
    "                           df_overhead2.iloc[j]+df_overhead1.iloc[j]+df_clone_rank.iloc[j] for j in range(len(df_compute_all_frame_rank))])\n",
    "\n",
    "ax.yaxis.grid(which='major',linestyle=':', linewidth='0.5', color='black')\n",
    "\n",
    "plt.style.use('ggplot')\n",
    "sns.set_style('ticks')\n",
    "plt.rcParams['font.size'] = 12\n",
    "ax.set_xlabel('Processor Ranks')   \n",
    "ax.set_ylabel('Total Time (s)')\n",
    "sns.despine(offset=10, ax=ax)\n",
    "\n",
    "plt.tight_layout()\n",
    "plt.xticks(range(0,block,20), range(0,block,20))\n",
    "fig = ax.get_figure()\n",
    "lgd = ax.legend(loc='upper center', bbox_to_anchor=(0.45, -0.28), frameon=False, shadow=True, ncol=3, prop={'size':12})\n",
    "plt.gcf().subplots_adjust(bottom=0.35)\n",
    "fig.savefig('{}.pdf'.format(fig_name), bbox_inches='tight')"
   ]
  },
  {
   "cell_type": "code",
   "execution_count": 52,
   "metadata": {},
   "outputs": [],
   "source": [
    "def plot_dataframe(y, yerr, fig_name, ylabel, ylim, log): \n",
    "    plt.style.use('ggplot')\n",
    "    sns.set_style('ticks')\n",
    "    plt.rcParams['font.size'] = 9\n",
    "    fig = plt.figure(figsize=(4,4))\n",
    "    ax = fig.add_subplot(1,1,1)\n",
    "    df7.plot(y=y, x='blocks', yerr=yerr, ax=ax, marker='o', lw=2, label='Comet')\n",
    "    if (y == 'speed_up'):\n",
    "        df7.plot(y='Ideal_Scaling', x='blocks', ax=ax, linestyle='--', color='k', lw=2)\n",
    "    if (y == 'efficiency'):\n",
    "        df7.plot(y='Ideal_Efficiency', x='blocks', ax=ax, linestyle='--', color='k', lw=2)      \n",
    "        \n",
    "    ax.set_xlabel('$N_{Processes}$')   \n",
    "    ax.set_ylabel(ylabel)\n",
    "    if log == 'True':\n",
    "        ax.loglog([1,72], [df7['t_tot_max'][0], df7['t_tot_max'][0]/72.], '--', label='Ideal',color='black')\n",
    "        plt.yscale('log')\n",
    "        plt.xscale('log') \n",
    "    else:\n",
    "        ax.set_xlim([1,72])\n",
    "        ax.set_ylim(ylim)  \n",
    "        \n",
    "    ax.yaxis.grid(which='major',linestyle=':', linewidth='0.5', color='black')\n",
    "    ax.xaxis.grid(which='major',linestyle=':', linewidth='0.5', color='black')\n",
    "    ax.yaxis.grid(which='minor',linestyle=':', linewidth='0.5', color='black')\n",
    "    ax.xaxis.grid(which='minor',linestyle=':', linewidth='0.5', color='black')    \n",
    "        \n",
    "    ax.legend().set_visible(False)\n",
    "    sns.despine(offset=10, ax=ax)\n",
    "    plt.tight_layout() \n",
    "    fig.savefig('{}.pdf'.format(fig_name))"
   ]
  },
  {
   "cell_type": "code",
   "execution_count": 53,
   "metadata": {
    "scrolled": false
   },
   "outputs": [
    {
     "data": {
      "image/png": "[encoded data removed]",
      "text/plain": [
       "<Figure size 288x288 with 1 Axes>"
      ]
     },
     "metadata": {},
     "output_type": "display_data"
    },
    {
     "data": {
      "image/png": "[encoded data removed]",
      "text/plain": [
       "<Figure size 288x288 with 1 Axes>"
      ]
     },
     "metadata": {},
     "output_type": "display_data"
    }
   ],
   "source": [
    "plot_dataframe('speed_up', 'std_S', 'speed_up', r'Speed Up ($S=\\frac{t_{1}}{t_{N}}$)', [1,72],'False')\n",
    "# plot_dataframe('efficiency', 'std_E', 'Efficiency', r'Efficiency ($\\frac{S}{N}$)', [0,1.1],'False')\n",
    "# plot_dataframe('t_block_RMSD_mean', 'std_t_block_RMSD_mean' , 't_block_RMSD_mean', '$t_{RMSD}(s)$', [0,1050],'True')\n",
    "# plot_dataframe('t_comm_mean', 'std_t_comm_mean' , 't_comm_mean', '$t_{communication}(s)$', [0,150],'True')\n",
    "# plot_dataframe('t_block_RMSD_max', 'std_t_block_RMSD_max' , 't_block_RMSD_max', '$t_{RMSD}(s)$', [0,1050],'True')\n",
    "plot_dataframe('t_tot_max', 'std_tot_max', 't_total', 'Total time $t_{total}(s)$', [0,1050],'True')"
   ]
  },
  {
   "cell_type": "code",
   "execution_count": null,
   "metadata": {},
   "outputs": [],
   "source": []
  },
  {
   "cell_type": "code",
   "execution_count": null,
   "metadata": {},
   "outputs": [],
   "source": []
  },
  {
   "cell_type": "code",
   "execution_count": null,
   "metadata": {},
   "outputs": [],
   "source": []
  }
 ],
 "metadata": {
  "anaconda-cloud": {},
  "kernelspec": {
   "display_name": "Python 3",
   "language": "python",
   "name": "python3"
  },
  "language_info": {
   "codemirror_mode": {
    "name": "ipython",
    "version": 3
   },
   "file_extension": ".py",
   "mimetype": "text/x-python",
   "name": "python",
   "nbconvert_exporter": "python",
   "pygments_lexer": "ipython3",
   "version": "3.5.5"
  }
 },
 "nbformat": 4,
 "nbformat_minor": 2
}
