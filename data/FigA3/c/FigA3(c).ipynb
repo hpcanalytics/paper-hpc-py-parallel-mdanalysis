{
 "cells": [
  {
   "cell_type": "code",
   "execution_count": 1,
   "metadata": {},
   "outputs": [],
   "source": [
    "import sys\n",
    "import numpy as np\n",
    "import matplotlib\n",
    "import matplotlib.pyplot as plt\n",
    "import pandas as pd\n",
    "import seaborn as sns\n",
    "plt.style.use('ggplot')\n",
    "sns.set_style('ticks')\n",
    "import matplotlib.ticker as ticker\n",
    "from matplotlib.ticker import MultipleLocator, FormatStrFormatter\n",
    "# Enable inline plotting  \n",
    "%matplotlib inline"
   ]
  },
  {
   "cell_type": "code",
   "execution_count": 2,
   "metadata": {},
   "outputs": [
    {
     "name": "stdout",
     "output_type": "stream",
     "text": [
      "Python version 3.6.7 | packaged by conda-forge | (default, Feb 28 2019, 02:16:08) \n",
      "[GCC 4.2.1 Compatible Clang 4.0.1 (tags/RELEASE_401/final)]\n",
      "Pandas version 0.24.2\n",
      "Numpy version 1.16.4\n"
     ]
    }
   ],
   "source": [
    "print ('Python version ' + sys.version)\n",
    "print ('Pandas version ' + pd.__version__)\n",
    "print ('Numpy version ' + np.__version__)"
   ]
  },
  {
   "cell_type": "code",
   "execution_count": 3,
   "metadata": {},
   "outputs": [],
   "source": [
    "data1 = 'df7-comm-updated-rmsd-SuperMIC.csv'\n",
    "data2 = 'df7-comm-updated-rmsd-parallel-IO-SuperMIC.csv'\n",
    "data3 = 'df7-comm-updated-rmsd-traj-split-SuperMIC.csv'\n",
    "data4 = 'df7-comm-updated-rmsd-traj-split-GA-SuperMIC.csv'"
   ]
  },
  {
   "cell_type": "code",
   "execution_count": 4,
   "metadata": {},
   "outputs": [],
   "source": [
    "df_data1 = pd.read_csv(data1)\n",
    "df_data2 = pd.read_csv(data2)\n",
    "df_data3 = pd.read_csv(data3)\n",
    "df_data4 = pd.read_csv(data4)"
   ]
  },
  {
   "cell_type": "code",
   "execution_count": 13,
   "metadata": {},
   "outputs": [
    {
     "data": {
      "image/png": "[encoded data removed]",
      "text/plain": [
       "<Figure size 288x288 with 1 Axes>"
      ]
     },
     "metadata": {},
     "output_type": "display_data"
    }
   ],
   "source": [
    "import matplotlib as mpl\n",
    "\n",
    "matplotlib.rcParams['legend.fontsize'] = 9\n",
    "plt.style.use('ggplot')\n",
    "sns.set_style('ticks')\n",
    "\n",
    "fig = plt.figure(figsize=(4,4))\n",
    "ax = fig.add_subplot(1,1,1)\n",
    "\n",
    "df = [df_data1,df_data2,df_data3,df_data4]\n",
    "\n",
    "df[1].plot(y='Ideal_Efficiency', x='blocks', ax=ax, linestyle='--', color='k', lw=2,label='')\n",
    "df[0].plot(y='efficiency', x='blocks', yerr='std_E', ax=ax, marker='o', lw=2, color='red')\n",
    "df[1].plot(y='efficiency', x='blocks', yerr='std_E', ax=ax, marker='o', lw=2, color='pink')\n",
    "df[2].plot(y='efficiency', x='blocks', yerr='std_E', ax=ax, marker='o', lw=2, color='gray')\n",
    "#df[3].plot(y='efficiency', x='blocks', yerr='std_E', ax=ax, marker='o', lw=2, color='k')\n",
    "\n",
    "\n",
    "ax.xaxis.set_major_locator(plt.matplotlib.ticker.MultipleLocator(100))\n",
    "ax.xaxis.set_minor_locator(plt.matplotlib.ticker.MultipleLocator(50))\n",
    "\n",
    "\n",
    "ax.yaxis.grid(which='major',linestyle=':', linewidth='0.5', color='black')\n",
    "ax.xaxis.grid(which='major',linestyle=':', linewidth='0.5', color='black')\n",
    "ax.yaxis.grid(which='minor',linestyle=':', linewidth='0.5', color='black')\n",
    "ax.xaxis.grid(which='minor',linestyle=':', linewidth='0.5', color='black') \n",
    "\n",
    "ax.set_xlabel('$N_{Processes}$')\n",
    "ax.set_ylabel(r'Efficiency ($\\frac{S}{N}$)')\n",
    "ax.set_xlim(1, 340)\n",
    "ax.set_ylim(0, 1.2)\n",
    "sns.despine(offset=10, ax=ax)\n",
    "lgd = ax.legend(['Ideal','MPI','MPI Parallel IO','MPI Trajectory Splitting'],\n",
    "                loc='upper center', bbox_to_anchor=(0.50, -0.3), frameon=False, fancybox=True, shadow=True, ncol=2)\n",
    "plt.tight_layout()\n",
    "plt.show()\n",
    "fig_name = 'Comparison_Efficiency_all_SuperMIC'\n",
    "fig.savefig('{}.pdf'.format(fig_name),bbox_extra_artists=(lgd,), bbox_inches='tight')"
   ]
  },
  {
   "cell_type": "code",
   "execution_count": null,
   "metadata": {},
   "outputs": [],
   "source": []
  }
 ],
 "metadata": {
  "kernelspec": {
   "display_name": "Python 3",
   "language": "python",
   "name": "python3"
  },
  "language_info": {
   "codemirror_mode": {
    "name": "ipython",
    "version": 3
   },
   "file_extension": ".py",
   "mimetype": "text/x-python",
   "name": "python",
   "nbconvert_exporter": "python",
   "pygments_lexer": "ipython3",
   "version": "3.6.7"
  }
 },
 "nbformat": 4,
 "nbformat_minor": 2
}
