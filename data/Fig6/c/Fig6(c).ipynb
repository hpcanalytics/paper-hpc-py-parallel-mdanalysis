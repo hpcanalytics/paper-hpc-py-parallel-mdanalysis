{
 "cells": [
  {
   "cell_type": "code",
   "execution_count": 2,
   "metadata": {},
   "outputs": [],
   "source": [
    "import numpy as np\n",
    "import matplotlib\n",
    "import matplotlib.pyplot as plt\n",
    "import sys\n",
    "import pandas as pd\n",
    "import seaborn as sns\n",
    "plt.style.use('ggplot')\n",
    "sns.set_style('ticks')\n",
    "import re\n",
    "import matplotlib.ticker as ticker\n",
    "# Enable inline plotting  \n",
    "%matplotlib inline"
   ]
  },
  {
   "cell_type": "code",
   "execution_count": 3,
   "metadata": {},
   "outputs": [
    {
     "name": "stdout",
     "output_type": "stream",
     "text": [
      "Python version 3.6.7 | packaged by conda-forge | (default, Feb 28 2019, 02:16:08) \n",
      "[GCC 4.2.1 Compatible Clang 4.0.1 (tags/RELEASE_401/final)]\n",
      "Pandas version 0.24.2\n",
      "Numpy version 1.16.4\n"
     ]
    }
   ],
   "source": [
    "print ('Python version ' + sys.version)\n",
    "print ('Pandas version ' + pd.__version__)\n",
    "print ('Numpy version ' + np.__version__)"
   ]
  },
  {
   "cell_type": "code",
   "execution_count": 24,
   "metadata": {},
   "outputs": [],
   "source": [
    "data_comet_S = 'dff-comm-updated-rmsd-traj-split.csv'\n",
    "data_comet_SG = 'dff-comm-updated-rmsd-traj-split-GA.csv'\n",
    "data_SuperMIC_S = 'dff-comm-updated-rmsd-traj-split-SuperMIC.csv'\n",
    "data_SuperMIC_SG = 'dff-comm-updated-rmsd-traj-split-GA-SuperMIC.csv'"
   ]
  },
  {
   "cell_type": "code",
   "execution_count": 25,
   "metadata": {},
   "outputs": [],
   "source": [
    "dff_comet_S = pd.read_csv(data_comet_S)\n",
    "dff_comet_SG = pd.read_csv(data_comet_SG)\n",
    "dff_SuperMIC_S = pd.read_csv(data_SuperMIC_S)\n",
    "dff_SuperMIC_SG = pd.read_csv(data_SuperMIC_SG)"
   ]
  },
  {
   "cell_type": "code",
   "execution_count": 26,
   "metadata": {
    "scrolled": true
   },
   "outputs": [
    {
     "data": {
      "text/plain": [
       "Index(['Unnamed: 0', 'blocks', 'repeat', 'P_ID', 't_comp', 't_IO',\n",
       "       't_IO_plus_t_comp', 't_end_loop', 't_init', 'Communication',\n",
       "       'std_t_comp', 'std_t_IO', 'std_t_IO_plus_t_comp', 'std_t_end_loop',\n",
       "       'std_t_init', 'std_comm'],\n",
       "      dtype='object')"
      ]
     },
     "execution_count": 26,
     "metadata": {},
     "output_type": "execute_result"
    }
   ],
   "source": [
    "dff_comet_S.columns"
   ]
  },
  {
   "cell_type": "code",
   "execution_count": 27,
   "metadata": {},
   "outputs": [
    {
     "data": {
      "text/plain": [
       "24.2565690279"
      ]
     },
     "execution_count": 27,
     "metadata": {},
     "output_type": "execute_result"
    }
   ],
   "source": [
    "dff_comet_S.loc[1, \"Communication\"]"
   ]
  },
  {
   "cell_type": "code",
   "execution_count": 28,
   "metadata": {},
   "outputs": [
    {
     "data": {
      "text/plain": [
       "8.4039375782"
      ]
     },
     "execution_count": 28,
     "metadata": {},
     "output_type": "execute_result"
    }
   ],
   "source": [
    "dff_SuperMIC_S.loc[1, \"Communication\"]"
   ]
  },
  {
   "cell_type": "code",
   "execution_count": 35,
   "metadata": {},
   "outputs": [
    {
     "data": {
      "text/plain": [
       "0.011594629287700001"
      ]
     },
     "execution_count": 35,
     "metadata": {},
     "output_type": "execute_result"
    }
   ],
   "source": [
    "dff_comet_S[\"Communication\"][0]"
   ]
  },
  {
   "cell_type": "code",
   "execution_count": 33,
   "metadata": {},
   "outputs": [
    {
     "data": {
      "text/html": [
       "<div>\n",
       "<style scoped>\n",
       "    .dataframe tbody tr th:only-of-type {\n",
       "        vertical-align: middle;\n",
       "    }\n",
       "\n",
       "    .dataframe tbody tr th {\n",
       "        vertical-align: top;\n",
       "    }\n",
       "\n",
       "    .dataframe thead th {\n",
       "        text-align: right;\n",
       "    }\n",
       "</style>\n",
       "<table border=\"1\" class=\"dataframe\">\n",
       "  <thead>\n",
       "    <tr style=\"text-align: right;\">\n",
       "      <th></th>\n",
       "      <th>Unnamed: 0</th>\n",
       "      <th>blocks</th>\n",
       "      <th>repeat</th>\n",
       "      <th>P_ID</th>\n",
       "      <th>t_comp</th>\n",
       "      <th>t_IO</th>\n",
       "      <th>t_IO_plus_t_comp</th>\n",
       "      <th>t_end_loop</th>\n",
       "      <th>t_init</th>\n",
       "      <th>Communication</th>\n",
       "      <th>std_t_comp</th>\n",
       "      <th>std_t_IO</th>\n",
       "      <th>std_t_IO_plus_t_comp</th>\n",
       "      <th>std_t_end_loop</th>\n",
       "      <th>std_t_init</th>\n",
       "      <th>std_comm</th>\n",
       "    </tr>\n",
       "  </thead>\n",
       "  <tbody>\n",
       "    <tr>\n",
       "      <th>0</th>\n",
       "      <td>0</td>\n",
       "      <td>1</td>\n",
       "      <td>3.0</td>\n",
       "      <td>0.0</td>\n",
       "      <td>225.720698</td>\n",
       "      <td>799.416394</td>\n",
       "      <td>1027.133724</td>\n",
       "      <td>0.009202</td>\n",
       "      <td>0.167803</td>\n",
       "      <td>0.011595</td>\n",
       "      <td>5.402025</td>\n",
       "      <td>5.215511</td>\n",
       "      <td>10.397883</td>\n",
       "      <td>0.004146</td>\n",
       "      <td>0.002210</td>\n",
       "      <td>0.002185</td>\n",
       "    </tr>\n",
       "    <tr>\n",
       "      <th>1</th>\n",
       "      <td>1</td>\n",
       "      <td>24</td>\n",
       "      <td>3.5</td>\n",
       "      <td>23.0</td>\n",
       "      <td>11.581474</td>\n",
       "      <td>37.798067</td>\n",
       "      <td>49.119199</td>\n",
       "      <td>0.009916</td>\n",
       "      <td>0.284256</td>\n",
       "      <td>24.256569</td>\n",
       "      <td>0.306188</td>\n",
       "      <td>1.218912</td>\n",
       "      <td>1.581867</td>\n",
       "      <td>0.012056</td>\n",
       "      <td>0.060771</td>\n",
       "      <td>4.456158</td>\n",
       "    </tr>\n",
       "    <tr>\n",
       "      <th>2</th>\n",
       "      <td>2</td>\n",
       "      <td>48</td>\n",
       "      <td>3.5</td>\n",
       "      <td>47.0</td>\n",
       "      <td>5.711946</td>\n",
       "      <td>18.384817</td>\n",
       "      <td>24.008323</td>\n",
       "      <td>0.004307</td>\n",
       "      <td>0.238459</td>\n",
       "      <td>14.047676</td>\n",
       "      <td>0.065747</td>\n",
       "      <td>0.176167</td>\n",
       "      <td>0.096181</td>\n",
       "      <td>0.000274</td>\n",
       "      <td>0.046888</td>\n",
       "      <td>4.880287</td>\n",
       "    </tr>\n",
       "    <tr>\n",
       "      <th>3</th>\n",
       "      <td>3</td>\n",
       "      <td>72</td>\n",
       "      <td>3.5</td>\n",
       "      <td>71.0</td>\n",
       "      <td>3.901868</td>\n",
       "      <td>12.434412</td>\n",
       "      <td>16.280584</td>\n",
       "      <td>0.004075</td>\n",
       "      <td>0.216240</td>\n",
       "      <td>7.630680</td>\n",
       "      <td>0.035765</td>\n",
       "      <td>0.143774</td>\n",
       "      <td>0.172694</td>\n",
       "      <td>0.000046</td>\n",
       "      <td>0.046584</td>\n",
       "      <td>2.542745</td>\n",
       "    </tr>\n",
       "    <tr>\n",
       "      <th>4</th>\n",
       "      <td>4</td>\n",
       "      <td>96</td>\n",
       "      <td>3.0</td>\n",
       "      <td>95.0</td>\n",
       "      <td>3.003150</td>\n",
       "      <td>9.451513</td>\n",
       "      <td>12.440340</td>\n",
       "      <td>0.003802</td>\n",
       "      <td>0.232845</td>\n",
       "      <td>6.038970</td>\n",
       "      <td>0.109718</td>\n",
       "      <td>0.330083</td>\n",
       "      <td>0.426661</td>\n",
       "      <td>0.000297</td>\n",
       "      <td>0.077101</td>\n",
       "      <td>2.423405</td>\n",
       "    </tr>\n",
       "    <tr>\n",
       "      <th>5</th>\n",
       "      <td>5</td>\n",
       "      <td>144</td>\n",
       "      <td>3.0</td>\n",
       "      <td>143.0</td>\n",
       "      <td>2.100760</td>\n",
       "      <td>6.670177</td>\n",
       "      <td>8.780164</td>\n",
       "      <td>0.003848</td>\n",
       "      <td>0.232711</td>\n",
       "      <td>5.638175</td>\n",
       "      <td>0.225169</td>\n",
       "      <td>0.662708</td>\n",
       "      <td>0.908370</td>\n",
       "      <td>0.000261</td>\n",
       "      <td>0.058832</td>\n",
       "      <td>1.724388</td>\n",
       "    </tr>\n",
       "    <tr>\n",
       "      <th>6</th>\n",
       "      <td>6</td>\n",
       "      <td>192</td>\n",
       "      <td>3.0</td>\n",
       "      <td>191.0</td>\n",
       "      <td>1.554351</td>\n",
       "      <td>4.955848</td>\n",
       "      <td>6.439769</td>\n",
       "      <td>0.004070</td>\n",
       "      <td>0.265674</td>\n",
       "      <td>7.300211</td>\n",
       "      <td>0.065006</td>\n",
       "      <td>0.226645</td>\n",
       "      <td>0.303089</td>\n",
       "      <td>0.000349</td>\n",
       "      <td>0.058412</td>\n",
       "      <td>3.035320</td>\n",
       "    </tr>\n",
       "  </tbody>\n",
       "</table>\n",
       "</div>"
      ],
      "text/plain": [
       "   Unnamed: 0  blocks  repeat   P_ID      t_comp        t_IO  \\\n",
       "0           0       1     3.0    0.0  225.720698  799.416394   \n",
       "1           1      24     3.5   23.0   11.581474   37.798067   \n",
       "2           2      48     3.5   47.0    5.711946   18.384817   \n",
       "3           3      72     3.5   71.0    3.901868   12.434412   \n",
       "4           4      96     3.0   95.0    3.003150    9.451513   \n",
       "5           5     144     3.0  143.0    2.100760    6.670177   \n",
       "6           6     192     3.0  191.0    1.554351    4.955848   \n",
       "\n",
       "   t_IO_plus_t_comp  t_end_loop    t_init  Communication  std_t_comp  \\\n",
       "0       1027.133724    0.009202  0.167803       0.011595    5.402025   \n",
       "1         49.119199    0.009916  0.284256      24.256569    0.306188   \n",
       "2         24.008323    0.004307  0.238459      14.047676    0.065747   \n",
       "3         16.280584    0.004075  0.216240       7.630680    0.035765   \n",
       "4         12.440340    0.003802  0.232845       6.038970    0.109718   \n",
       "5          8.780164    0.003848  0.232711       5.638175    0.225169   \n",
       "6          6.439769    0.004070  0.265674       7.300211    0.065006   \n",
       "\n",
       "   std_t_IO  std_t_IO_plus_t_comp  std_t_end_loop  std_t_init  std_comm  \n",
       "0  5.215511             10.397883        0.004146    0.002210  0.002185  \n",
       "1  1.218912              1.581867        0.012056    0.060771  4.456158  \n",
       "2  0.176167              0.096181        0.000274    0.046888  4.880287  \n",
       "3  0.143774              0.172694        0.000046    0.046584  2.542745  \n",
       "4  0.330083              0.426661        0.000297    0.077101  2.423405  \n",
       "5  0.662708              0.908370        0.000261    0.058832  1.724388  \n",
       "6  0.226645              0.303089        0.000349    0.058412  3.035320  "
      ]
     },
     "execution_count": 33,
     "metadata": {},
     "output_type": "execute_result"
    }
   ],
   "source": [
    "dff_comet_S"
   ]
  },
  {
   "cell_type": "code",
   "execution_count": 44,
   "metadata": {},
   "outputs": [
    {
     "name": "stderr",
     "output_type": "stream",
     "text": [
      "/Users/oliver/anaconda3/envs/mda3/lib/python3.6/site-packages/ipykernel_launcher.py:28: SettingWithCopyWarning: \n",
      "A value is trying to be set on a copy of a slice from a DataFrame\n",
      "\n",
      "See the caveats in the documentation: http://pandas.pydata.org/pandas-docs/stable/indexing.html#indexing-view-versus-copy\n",
      "/Users/oliver/anaconda3/envs/mda3/lib/python3.6/site-packages/ipykernel_launcher.py:29: SettingWithCopyWarning: \n",
      "A value is trying to be set on a copy of a slice from a DataFrame\n",
      "\n",
      "See the caveats in the documentation: http://pandas.pydata.org/pandas-docs/stable/indexing.html#indexing-view-versus-copy\n",
      "/Users/oliver/anaconda3/envs/mda3/lib/python3.6/site-packages/numpy/core/numeric.py:538: UserWarning: Warning: converting a masked element to nan.\n",
      "  return array(a, dtype, copy=False, order=order)\n",
      "/Users/oliver/anaconda3/envs/mda3/lib/python3.6/site-packages/numpy/core/numeric.py:538: UserWarning: Warning: converting a masked element to nan.\n",
      "  return array(a, dtype, copy=False, order=order)\n",
      "/Users/oliver/anaconda3/envs/mda3/lib/python3.6/site-packages/numpy/core/numeric.py:538: UserWarning: Warning: converting a masked element to nan.\n",
      "  return array(a, dtype, copy=False, order=order)\n",
      "/Users/oliver/anaconda3/envs/mda3/lib/python3.6/site-packages/numpy/core/numeric.py:538: UserWarning: Warning: converting a masked element to nan.\n",
      "  return array(a, dtype, copy=False, order=order)\n",
      "/Users/oliver/anaconda3/envs/mda3/lib/python3.6/site-packages/ipykernel_launcher.py:81: UserWarning: Attempted to set non-positive bottom ylim on a log-scaled axis.\n",
      "Invalid limit will be ignored.\n"
     ]
    },
    {
     "data": {
      "image/png": "[encoded data removed]",
      "text/plain": [
       "<Figure size 504x288 with 1 Axes>"
      ]
     },
     "metadata": {},
     "output_type": "display_data"
    }
   ],
   "source": [
    "import matplotlib.patches as mpatches\n",
    "from matplotlib.pyplot import *\n",
    "import matplotlib\n",
    "\n",
    "plt.rcParams['font.size'] = 9\n",
    "fig = plt.figure(figsize=(7,4))\n",
    "axes = fig.add_subplot(1,1,1)\n",
    "width = 0.85 \n",
    "\n",
    "# colors for HPC machines\n",
    "color = {'comet': sns.color_palette()[0],\n",
    "         'supermic': sns.color_palette()[1],\n",
    "         'bridges': sns.color_palette()[2],\n",
    "        }\n",
    "style = {'t_IO': \"-\", \n",
    "         't_comp': \"--\",\n",
    "         't_comm': \":\",\n",
    "        }\n",
    "\n",
    "dff = [dff_comet_S, dff_comet_SG, dff_SuperMIC_S, dff_SuperMIC_SG]\n",
    "labels = ['Comet ($24$ cores per node)',\n",
    "          'Comet-GA ($24$ cores per node)',\n",
    "          'SuperMIC ($20$ cores per node)',\n",
    "          'SuperMIC-GA ($20$ cores per node)']\n",
    "\n",
    "# set Comm to Nan for N=1 (makes no sense, should be excluded from plot)\n",
    "for df in dff:\n",
    "    df[\"Communication\"][0] = np.NAN\n",
    "    df[\"std_comm\"][0] = np.NAN\n",
    "\n",
    "dff[0].index = dff[0].loc[:,'blocks']\n",
    "dff[1].index = dff[1].loc[:,'blocks']\n",
    "dff[2].index = dff[2].loc[:,'blocks']\n",
    "dff[3].index = dff[3].loc[:,'blocks']\n",
    "\n",
    "yerrs1 = [dff[0]['std_t_IO'].values.transpose().tolist(),\n",
    "          dff[0]['std_t_comp'].values.transpose().tolist(),\n",
    "          dff[0]['std_comm'].values.transpose().tolist(),\n",
    "         ]\n",
    "dff[0].loc[:,'t_IO'].plot(yerr=yerrs1[0], \n",
    "                          linestyle=style[\"t_IO\"],\n",
    "                          color=color[\"comet\"],\n",
    "                          ax=axes)\n",
    "dff[0].loc[:,'t_comp'].plot(yerr=yerrs1[1], \n",
    "                          linestyle=style[\"t_comp\"],\n",
    "                          color=color[\"comet\"],\n",
    "                          ax=axes)\n",
    "dff[0].loc[:,'Communication'].plot(yerr=yerrs1[1], \n",
    "                          linestyle=style[\"t_comm\"],\n",
    "                          color=color[\"comet\"],\n",
    "                          ax=axes)\n",
    "\n",
    "\n",
    "#yerrs2 = [dff[1]['std_t_IO'].values.transpose().tolist(),dff[1]['std_t_comp'].values.transpose().tolist()]\n",
    "#dff[1].loc[:,['t_IO','t_comp']].plot(yerr=yerrs2,ax=axes)\n",
    "\n",
    "yerrs3 = [dff[2]['std_t_IO'].values.transpose().tolist(),dff[2]['std_t_comp'].values.transpose().tolist()]\n",
    "dff[2].loc[:,'t_IO'].plot(yerr=yerrs3[0], \n",
    "                          linestyle=style[\"t_IO\"],\n",
    "                          color=color[\"supermic\"],\n",
    "                          ax=axes)\n",
    "dff[2].loc[:,'t_comp'].plot(yerr=yerrs3[1], \n",
    "                          linestyle=style[\"t_comp\"],\n",
    "                          color=color[\"supermic\"],\n",
    "                          ax=axes)\n",
    "dff[2].loc[:,'Communication'].plot(yerr=yerrs3[1], \n",
    "                          linestyle=style[\"t_comm\"],\n",
    "                          color=color[\"supermic\"],\n",
    "                          ax=axes)\n",
    "\n",
    "#yerrs4 = [dff[3]['std_t_IO'].values.transpose().tolist(),dff[3]['std_t_comp'].values.transpose().tolist()]\n",
    "#dff[3].loc[:,['t_IO','t_comp']].plot(yerr=yerrs4,ax=axes)\n",
    "\n",
    "plt.style.use('ggplot')\n",
    "sns.set_style('ticks')\n",
    "axes.set_xlabel('$N_{Processes}$')   \n",
    "axes.set_ylabel('Time (s)')\n",
    "plt.xscale('log')\n",
    "plt.yscale('log')\n",
    "\n",
    "axes.set_ylim(0, 1100)\n",
    "axes.set_xlim(0.95, 220)\n",
    "axes.yaxis.grid(which='major', linewidth='0.5', color='grey')\n",
    "axes.xaxis.grid(which='major', linewidth='0.5', color='grey')\n",
    "axes.yaxis.grid(which='minor', linewidth='0.5', color='grey')\n",
    "axes.xaxis.grid(which='minor', linewidth='0.5', color='grey')  \n",
    "sns.despine(offset=10, ax=axes)\n",
    "fig.subplots_adjust(bottom=0.2)\n",
    "legends = [r'$t_\\mathrm{IO}$ Comet',\n",
    "           r'$t_\\mathrm{comp}$ Comet ',\n",
    "           r'$t_\\mathrm{comm}$ Comet ',\n",
    "           #r'$t_\\mathrm{IO}$ Comet-GA ($24$ cores per node)',\n",
    "           #r'$t_\\mathrm{comp}$ Comet-GA ($24$ cores per node)',\n",
    "           r'$t_\\mathrm{IO}$ SuperMIC',\n",
    "           r'$t_\\mathrm{comp}$ SuperMIC',\n",
    "           r'$t_\\mathrm{comm}$ SuperMIC',           \n",
    "           #r'$t_\\mathrm{IO}$ SuperMIC-GA ($20$ cores per node)',\n",
    "           #r'$t_\\mathrm{comp}$ SuperMIC-GA ($20$ cores per node)'\n",
    "          ]\n",
    "\n",
    "lgd = plt.legend(legends,loc='upper right', fontsize=11, bbox_to_anchor=(-0.25, 0.95),frameon=False, shadow=True, ncol=1)\n",
    "plt.tight_layout()\n",
    "\n",
    "fig_name = 'Clusters_IO_compute_scaling_splitting'\n",
    "fig.savefig('{}.pdf'.format(fig_name),bbox_extra_artists=(lgd,), bbox_inches='tight')"
   ]
  },
  {
   "cell_type": "code",
   "execution_count": 13,
   "metadata": {},
   "outputs": [
    {
     "data": {
      "image/png": "[encoded data removed]",
      "text/plain": [
       "<Figure size 504x72 with 1 Axes>"
      ]
     },
     "metadata": {},
     "output_type": "display_data"
    }
   ],
   "source": [
    "sns.palplot(sns.color_palette())"
   ]
  },
  {
   "cell_type": "code",
   "execution_count": null,
   "metadata": {},
   "outputs": [],
   "source": []
  }
 ],
 "metadata": {
  "kernelspec": {
   "display_name": "Python 3",
   "language": "python",
   "name": "python3"
  },
  "language_info": {
   "codemirror_mode": {
    "name": "ipython",
    "version": 3
   },
   "file_extension": ".py",
   "mimetype": "text/x-python",
   "name": "python",
   "nbconvert_exporter": "python",
   "pygments_lexer": "ipython3",
   "version": "3.6.7"
  }
 },
 "nbformat": 4,
 "nbformat_minor": 2
}
