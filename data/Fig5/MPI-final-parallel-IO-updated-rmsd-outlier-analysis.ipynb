{
 "cells": [
  {
   "cell_type": "code",
   "execution_count": 1,
   "metadata": {},
   "outputs": [
    {
     "name": "stderr",
     "output_type": "stream",
     "text": [
      "/Users/oliver/anaconda3/envs/mda3/lib/python3.6/_collections_abc.py:841: MatplotlibDeprecationWarning: \n",
      "The examples.directory rcparam was deprecated in Matplotlib 3.0 and will be removed in 3.2. In the future, examples will be found relative to the 'datapath' directory.\n",
      "  self[key] = other[key]\n",
      "/Users/oliver/anaconda3/envs/mda3/lib/python3.6/_collections_abc.py:841: MatplotlibDeprecationWarning: \n",
      "The savefig.frameon rcparam was deprecated in Matplotlib 3.1 and will be removed in 3.3.\n",
      "  self[key] = other[key]\n",
      "/Users/oliver/anaconda3/envs/mda3/lib/python3.6/_collections_abc.py:841: MatplotlibDeprecationWarning: \n",
      "The text.latex.unicode rcparam was deprecated in Matplotlib 3.0 and will be removed in 3.2.\n",
      "  self[key] = other[key]\n",
      "/Users/oliver/anaconda3/envs/mda3/lib/python3.6/_collections_abc.py:841: MatplotlibDeprecationWarning: \n",
      "The verbose.fileo rcparam was deprecated in Matplotlib 3.1 and will be removed in 3.3.\n",
      "  self[key] = other[key]\n",
      "/Users/oliver/anaconda3/envs/mda3/lib/python3.6/_collections_abc.py:841: MatplotlibDeprecationWarning: \n",
      "The verbose.level rcparam was deprecated in Matplotlib 3.1 and will be removed in 3.3.\n",
      "  self[key] = other[key]\n",
      "/Users/oliver/anaconda3/envs/mda3/lib/python3.6/site-packages/seaborn/apionly.py:9: UserWarning: As seaborn no longer sets a default style on import, the seaborn.apionly module is deprecated. It will be removed in a future version.\n",
      "  warnings.warn(msg, UserWarning)\n"
     ]
    }
   ],
   "source": [
    "from __future__ import print_function, division\n",
    "import numpy as np\n",
    "import matplotlib\n",
    "import matplotlib.pyplot as plt\n",
    "from matplotlib.legend_handler import HandlerLine2D\n",
    "from IPython.display import display\n",
    "import sys\n",
    "import pandas as pd\n",
    "import seaborn.apionly as sns\n",
    "plt.style.use('ggplot')\n",
    "sns.set_style('ticks')\n",
    "import re\n",
    "import matplotlib.ticker as ticker\n",
    "# import mdsynthesis as mds\n",
    "from matplotlib.ticker import MultipleLocator, FormatStrFormatter\n",
    "# Enable inline plotting  \n",
    "%matplotlib inline"
   ]
  },
  {
   "cell_type": "code",
   "execution_count": 2,
   "metadata": {},
   "outputs": [
    {
     "name": "stdout",
     "output_type": "stream",
     "text": [
      "Python version 3.6.7 | packaged by conda-forge | (default, Feb 28 2019, 02:16:08) \n",
      "[GCC 4.2.1 Compatible Clang 4.0.1 (tags/RELEASE_401/final)]\n",
      "Pandas version 0.24.2\n",
      "Numpy version 1.16.4\n"
     ]
    }
   ],
   "source": [
    "print ('Python version ' + sys.version)\n",
    "print ('Pandas version ' + pd.__version__)\n",
    "print ('Numpy version ' + np.__version__)"
   ]
  },
  {
   "cell_type": "markdown",
   "metadata": {},
   "source": [
    "# Output from Production Run  "
   ]
  },
  {
   "cell_type": "code",
   "execution_count": 3,
   "metadata": {},
   "outputs": [],
   "source": [
    "# Data1 represents the time per rank per repeat for each component inside the RMSD function\n",
    "data1='data-comm-updated-rmsd-parallel-IO-Comet/data1.txt'\n",
    "# Data2 represents the timing of the different sections of the code per rank per repeat for each run \n",
    "data2='data-comm-updated-rmsd-parallel-IO-Comet/data2.txt'"
   ]
  },
  {
   "cell_type": "markdown",
   "metadata": {},
   "source": [
    "# Load Data"
   ]
  },
  {
   "cell_type": "code",
   "execution_count": 4,
   "metadata": {},
   "outputs": [],
   "source": [
    "# Load overal timing into a dataframe called df1 (use data1.txt)\n",
    "df1 = pd.read_csv(data1, delimiter=' ', header=None, names=['blocks', 'repeat', 'P_ID', 't_comp', 't_IO', 't_IO_plus_t_comp',\n",
    "                                                            't_end_loop', 't_init'])\n",
    "                                                            # t_init is t_opening_trajectory in the paper\n",
    "df1_copy = df1.copy()\n",
    "df1_orig = df1.copy() "
   ]
  },
  {
   "cell_type": "markdown",
   "metadata": {},
   "source": [
    "outlier is blocks==288, repeat==1"
   ]
  },
  {
   "cell_type": "code",
   "execution_count": 5,
   "metadata": {},
   "outputs": [],
   "source": [
    "OUTLIER = {'blocks': 288, 'repeat': 1}"
   ]
  },
  {
   "cell_type": "code",
   "execution_count": 6,
   "metadata": {},
   "outputs": [
    {
     "name": "stdout",
     "output_type": "stream",
     "text": [
      "Outliers data contains 288 observations\n"
     ]
    }
   ],
   "source": [
    "outliers1 = (df1_orig[['blocks', 'repeat']] == (OUTLIER['blocks'], OUTLIER['repeat'])).all(axis=1)\n",
    "print(\"Outliers data contains\", sum(outliers1), \"observations\")"
   ]
  },
  {
   "cell_type": "markdown",
   "metadata": {},
   "source": [
    "In this notebook: remove the outlier"
   ]
  },
  {
   "cell_type": "code",
   "execution_count": 7,
   "metadata": {},
   "outputs": [
    {
     "name": "stdout",
     "output_type": "stream",
     "text": [
      "Original data 8765\n",
      "Cleaned data 8477\n"
     ]
    }
   ],
   "source": [
    "print(\"Original data\", len(df1))\n",
    "df1 = df1_orig[~outliers1]\n",
    "df1_copy = df1.copy()    # df1_copy is used later :-p ...\n",
    "print(\"Cleaned data\",len(df1))"
   ]
  },
  {
   "cell_type": "code",
   "execution_count": 8,
   "metadata": {},
   "outputs": [],
   "source": [
    "df1 = pd.concat([df1.groupby('blocks', as_index=False).mean(), df1.groupby('blocks', as_index=False).max().loc[:,'t_IO_plus_t_comp'], \n",
    "                 df1.groupby('blocks', as_index=False).std().loc[:,['t_comp','t_IO']]],axis=1)"
   ]
  },
  {
   "cell_type": "code",
   "execution_count": 9,
   "metadata": {},
   "outputs": [],
   "source": [
    "df1.columns = ['blocks', 'repeat', 'P_ID', 't_comp', 't_IO', 't_IO_plus_t_comp_mean','t_end_loop', 't_init', \n",
    "               't_IO_plus_t_comp_max','std_comp','std_IO']"
   ]
  },
  {
   "cell_type": "markdown",
   "metadata": {},
   "source": [
    "outlier data"
   ]
  },
  {
   "cell_type": "code",
   "execution_count": 10,
   "metadata": {},
   "outputs": [],
   "source": [
    "df1_outlier = df1_orig[outliers1]\n",
    "df1_copy_outlier = df1_outlier.copy()\n",
    "df1_outlier = pd.concat([df1_outlier.groupby('blocks', as_index=False).mean(), df1_outlier.groupby('blocks', as_index=False).max().loc[:,'t_IO_plus_t_comp'], \n",
    "                 df1_outlier.groupby('blocks', as_index=False).std().loc[:,['t_comp','t_IO']]],axis=1)\n",
    "df1_outlier.columns = ['blocks', 'repeat', 'P_ID', 't_comp', 't_IO', 't_IO_plus_t_comp_mean','t_end_loop', 't_init', \n",
    "               't_IO_plus_t_comp_max','std_comp','std_IO']"
   ]
  },
  {
   "cell_type": "code",
   "execution_count": 11,
   "metadata": {},
   "outputs": [
    {
     "data": {
      "text/html": [
       "<div>\n",
       "<style scoped>\n",
       "    .dataframe tbody tr th:only-of-type {\n",
       "        vertical-align: middle;\n",
       "    }\n",
       "\n",
       "    .dataframe tbody tr th {\n",
       "        vertical-align: top;\n",
       "    }\n",
       "\n",
       "    .dataframe thead th {\n",
       "        text-align: right;\n",
       "    }\n",
       "</style>\n",
       "<table border=\"1\" class=\"dataframe\">\n",
       "  <thead>\n",
       "    <tr style=\"text-align: right;\">\n",
       "      <th></th>\n",
       "      <th>blocks</th>\n",
       "      <th>repeat</th>\n",
       "      <th>P_ID</th>\n",
       "      <th>t_comp</th>\n",
       "      <th>t_IO</th>\n",
       "      <th>t_IO_plus_t_comp_mean</th>\n",
       "      <th>t_end_loop</th>\n",
       "      <th>t_init</th>\n",
       "      <th>t_IO_plus_t_comp_max</th>\n",
       "      <th>std_comp</th>\n",
       "      <th>std_IO</th>\n",
       "    </tr>\n",
       "  </thead>\n",
       "  <tbody>\n",
       "    <tr>\n",
       "      <th>0</th>\n",
       "      <td>288</td>\n",
       "      <td>1.0</td>\n",
       "      <td>143.5</td>\n",
       "      <td>0.800807</td>\n",
       "      <td>10.0918</td>\n",
       "      <td>10.905271</td>\n",
       "      <td>9.122822e-07</td>\n",
       "      <td>0.00011</td>\n",
       "      <td>18.457859</td>\n",
       "      <td>0.027472</td>\n",
       "      <td>4.676686</td>\n",
       "    </tr>\n",
       "  </tbody>\n",
       "</table>\n",
       "</div>"
      ],
      "text/plain": [
       "   blocks  repeat   P_ID    t_comp     t_IO  t_IO_plus_t_comp_mean  \\\n",
       "0     288     1.0  143.5  0.800807  10.0918              10.905271   \n",
       "\n",
       "     t_end_loop   t_init  t_IO_plus_t_comp_max  std_comp    std_IO  \n",
       "0  9.122822e-07  0.00011             18.457859  0.027472  4.676686  "
      ]
     },
     "execution_count": 11,
     "metadata": {},
     "output_type": "execute_result"
    }
   ],
   "source": [
    "df1_outlier"
   ]
  },
  {
   "cell_type": "markdown",
   "metadata": {},
   "source": [
    "# Data 2 Preparation "
   ]
  },
  {
   "cell_type": "code",
   "execution_count": 12,
   "metadata": {},
   "outputs": [],
   "source": [
    "with open(data2, 'r') as f:\n",
    "    l = f.readlines()"
   ]
  },
  {
   "cell_type": "code",
   "execution_count": 13,
   "metadata": {},
   "outputs": [],
   "source": [
    "def Flatten(TheList):\n",
    "    a = str(TheList)\n",
    "    b,crap = re.subn(r'(\\]|\\[)', '\\n', a)\n",
    "    c = b.split('\\n')\n",
    "\n",
    "    return(c)\n",
    "\n",
    "def Flatten1(TheList):\n",
    "    a = TheList\n",
    "    b,crap = re.subn(r',', '', a)\n",
    "\n",
    "    return(b)"
   ]
  },
  {
   "cell_type": "code",
   "execution_count": 14,
   "metadata": {},
   "outputs": [],
   "source": [
    "## Some modification to the input format to convert it to the desired format\n",
    "\n",
    "l1 = []\n",
    "for l_i in l:\n",
    "    d = Flatten(l_i)\n",
    "    b = []\n",
    "    for lng in range(len(d)):\n",
    "        if(len(d[lng])>1):b.append(d[lng])      \n",
    "       \n",
    "    b1 = Flatten1(b[1])   \n",
    "    b1 = list(map(float, b1.split()))\n",
    "    a1 = b[0].split(' ')\n",
    "    a1.remove('')\n",
    "    a1 = list(map(int, a1))\n",
    "    l1.append((a1 + b1))"
   ]
  },
  {
   "cell_type": "markdown",
   "metadata": {},
   "source": [
    "# Data Post-Processing "
   ]
  },
  {
   "cell_type": "markdown",
   "metadata": {},
   "source": [
    "Written by\n",
    "```python\n",
    " with open('data2.txt', mode='a') as file2:\n",
    "        file2.write(\"{} {} {}\\n\".format(size, j, tot_time))\n",
    "        file2.write(\"{} {} {}\\n\".format(size, j, init_time))\n",
    "        file2.write(\"{} {} {}\\n\".format(size, j, comm_time1)) \n",
    "        file2.write(\"{} {} {}\\n\".format(size, j, comm_time2))\n",
    "        file2.write(\"{} {} {}\\n\".format(size, j, comm_time3))\n",
    "        file2.write(\"{} {} {}\\n\".format(size, j, comp_time))\t\n",
    "        file2.write(\"{} {} {}\\n\".format(size, j, access_time))\n",
    "```\n",
    "i.e. 7 rows per run (indexed by `size` and `j`)."
   ]
  },
  {
   "cell_type": "code",
   "execution_count": 15,
   "metadata": {},
   "outputs": [
    {
     "data": {
      "text/plain": [
       "(595, 386)"
      ]
     },
     "execution_count": 15,
     "metadata": {},
     "output_type": "execute_result"
    }
   ],
   "source": [
    "# Load timing per N_p per repeat into a dataframe called df2 (use data2.txt)\n",
    "df2 = pd.DataFrame(l1, index=None, columns=None)\n",
    "df2.shape"
   ]
  },
  {
   "cell_type": "code",
   "execution_count": 16,
   "metadata": {},
   "outputs": [],
   "source": [
    "outliers2 = (df2.iloc[:, 0:2] == (OUTLIER['blocks'], OUTLIER['repeat'])).all(axis=1)"
   ]
  },
  {
   "cell_type": "code",
   "execution_count": 17,
   "metadata": {
    "scrolled": true
   },
   "outputs": [
    {
     "data": {
      "text/html": [
       "<div>\n",
       "<style scoped>\n",
       "    .dataframe tbody tr th:only-of-type {\n",
       "        vertical-align: middle;\n",
       "    }\n",
       "\n",
       "    .dataframe tbody tr th {\n",
       "        vertical-align: top;\n",
       "    }\n",
       "\n",
       "    .dataframe thead th {\n",
       "        text-align: right;\n",
       "    }\n",
       "</style>\n",
       "<table border=\"1\" class=\"dataframe\">\n",
       "  <thead>\n",
       "    <tr style=\"text-align: right;\">\n",
       "      <th></th>\n",
       "      <th>0</th>\n",
       "      <th>1</th>\n",
       "      <th>2</th>\n",
       "      <th>3</th>\n",
       "      <th>4</th>\n",
       "      <th>5</th>\n",
       "      <th>6</th>\n",
       "      <th>7</th>\n",
       "      <th>8</th>\n",
       "      <th>9</th>\n",
       "      <th>...</th>\n",
       "      <th>376</th>\n",
       "      <th>377</th>\n",
       "      <th>378</th>\n",
       "      <th>379</th>\n",
       "      <th>380</th>\n",
       "      <th>381</th>\n",
       "      <th>382</th>\n",
       "      <th>383</th>\n",
       "      <th>384</th>\n",
       "      <th>385</th>\n",
       "    </tr>\n",
       "  </thead>\n",
       "  <tbody>\n",
       "    <tr>\n",
       "      <th>525</th>\n",
       "      <td>288</td>\n",
       "      <td>1</td>\n",
       "      <td>2.369442</td>\n",
       "      <td>2.330493</td>\n",
       "      <td>2.323528</td>\n",
       "      <td>2.320353</td>\n",
       "      <td>2.275919</td>\n",
       "      <td>2.300967</td>\n",
       "      <td>2.290210</td>\n",
       "      <td>2.315142</td>\n",
       "      <td>...</td>\n",
       "      <td>NaN</td>\n",
       "      <td>NaN</td>\n",
       "      <td>NaN</td>\n",
       "      <td>NaN</td>\n",
       "      <td>NaN</td>\n",
       "      <td>NaN</td>\n",
       "      <td>NaN</td>\n",
       "      <td>NaN</td>\n",
       "      <td>NaN</td>\n",
       "      <td>NaN</td>\n",
       "    </tr>\n",
       "    <tr>\n",
       "      <th>526</th>\n",
       "      <td>288</td>\n",
       "      <td>1</td>\n",
       "      <td>93.953494</td>\n",
       "      <td>93.966494</td>\n",
       "      <td>93.916463</td>\n",
       "      <td>93.895280</td>\n",
       "      <td>93.911373</td>\n",
       "      <td>94.036756</td>\n",
       "      <td>93.843472</td>\n",
       "      <td>93.865459</td>\n",
       "      <td>...</td>\n",
       "      <td>NaN</td>\n",
       "      <td>NaN</td>\n",
       "      <td>NaN</td>\n",
       "      <td>NaN</td>\n",
       "      <td>NaN</td>\n",
       "      <td>NaN</td>\n",
       "      <td>NaN</td>\n",
       "      <td>NaN</td>\n",
       "      <td>NaN</td>\n",
       "      <td>NaN</td>\n",
       "    </tr>\n",
       "    <tr>\n",
       "      <th>527</th>\n",
       "      <td>288</td>\n",
       "      <td>1</td>\n",
       "      <td>0.000518</td>\n",
       "      <td>0.000592</td>\n",
       "      <td>0.000504</td>\n",
       "      <td>0.000502</td>\n",
       "      <td>0.000489</td>\n",
       "      <td>0.000479</td>\n",
       "      <td>0.000512</td>\n",
       "      <td>0.000499</td>\n",
       "      <td>...</td>\n",
       "      <td>NaN</td>\n",
       "      <td>NaN</td>\n",
       "      <td>NaN</td>\n",
       "      <td>NaN</td>\n",
       "      <td>NaN</td>\n",
       "      <td>NaN</td>\n",
       "      <td>NaN</td>\n",
       "      <td>NaN</td>\n",
       "      <td>NaN</td>\n",
       "      <td>NaN</td>\n",
       "    </tr>\n",
       "    <tr>\n",
       "      <th>528</th>\n",
       "      <td>288</td>\n",
       "      <td>1</td>\n",
       "      <td>0.041964</td>\n",
       "      <td>0.000397</td>\n",
       "      <td>0.001365</td>\n",
       "      <td>0.001440</td>\n",
       "      <td>0.001992</td>\n",
       "      <td>0.002021</td>\n",
       "      <td>0.002175</td>\n",
       "      <td>0.002199</td>\n",
       "      <td>...</td>\n",
       "      <td>NaN</td>\n",
       "      <td>NaN</td>\n",
       "      <td>NaN</td>\n",
       "      <td>NaN</td>\n",
       "      <td>NaN</td>\n",
       "      <td>NaN</td>\n",
       "      <td>NaN</td>\n",
       "      <td>NaN</td>\n",
       "      <td>NaN</td>\n",
       "      <td>NaN</td>\n",
       "    </tr>\n",
       "    <tr>\n",
       "      <th>529</th>\n",
       "      <td>288</td>\n",
       "      <td>1</td>\n",
       "      <td>0.004787</td>\n",
       "      <td>0.000024</td>\n",
       "      <td>0.000162</td>\n",
       "      <td>0.000023</td>\n",
       "      <td>0.000326</td>\n",
       "      <td>0.000025</td>\n",
       "      <td>0.000134</td>\n",
       "      <td>0.000022</td>\n",
       "      <td>...</td>\n",
       "      <td>NaN</td>\n",
       "      <td>NaN</td>\n",
       "      <td>NaN</td>\n",
       "      <td>NaN</td>\n",
       "      <td>NaN</td>\n",
       "      <td>NaN</td>\n",
       "      <td>NaN</td>\n",
       "      <td>NaN</td>\n",
       "      <td>NaN</td>\n",
       "      <td>NaN</td>\n",
       "    </tr>\n",
       "    <tr>\n",
       "      <th>530</th>\n",
       "      <td>288</td>\n",
       "      <td>1</td>\n",
       "      <td>2.327478</td>\n",
       "      <td>2.330097</td>\n",
       "      <td>2.322163</td>\n",
       "      <td>2.318912</td>\n",
       "      <td>2.273927</td>\n",
       "      <td>2.298946</td>\n",
       "      <td>2.288035</td>\n",
       "      <td>2.312943</td>\n",
       "      <td>...</td>\n",
       "      <td>NaN</td>\n",
       "      <td>NaN</td>\n",
       "      <td>NaN</td>\n",
       "      <td>NaN</td>\n",
       "      <td>NaN</td>\n",
       "      <td>NaN</td>\n",
       "      <td>NaN</td>\n",
       "      <td>NaN</td>\n",
       "      <td>NaN</td>\n",
       "      <td>NaN</td>\n",
       "    </tr>\n",
       "    <tr>\n",
       "      <th>531</th>\n",
       "      <td>288</td>\n",
       "      <td>1</td>\n",
       "      <td>16.253955</td>\n",
       "      <td>16.252141</td>\n",
       "      <td>16.259311</td>\n",
       "      <td>16.262626</td>\n",
       "      <td>16.307468</td>\n",
       "      <td>16.282615</td>\n",
       "      <td>16.293415</td>\n",
       "      <td>16.268600</td>\n",
       "      <td>...</td>\n",
       "      <td>NaN</td>\n",
       "      <td>NaN</td>\n",
       "      <td>NaN</td>\n",
       "      <td>NaN</td>\n",
       "      <td>NaN</td>\n",
       "      <td>NaN</td>\n",
       "      <td>NaN</td>\n",
       "      <td>NaN</td>\n",
       "      <td>NaN</td>\n",
       "      <td>NaN</td>\n",
       "    </tr>\n",
       "  </tbody>\n",
       "</table>\n",
       "<p>7 rows × 386 columns</p>\n",
       "</div>"
      ],
      "text/plain": [
       "     0    1          2          3          4          5          6    \\\n",
       "525  288    1   2.369442   2.330493   2.323528   2.320353   2.275919   \n",
       "526  288    1  93.953494  93.966494  93.916463  93.895280  93.911373   \n",
       "527  288    1   0.000518   0.000592   0.000504   0.000502   0.000489   \n",
       "528  288    1   0.041964   0.000397   0.001365   0.001440   0.001992   \n",
       "529  288    1   0.004787   0.000024   0.000162   0.000023   0.000326   \n",
       "530  288    1   2.327478   2.330097   2.322163   2.318912   2.273927   \n",
       "531  288    1  16.253955  16.252141  16.259311  16.262626  16.307468   \n",
       "\n",
       "           7          8          9    ...  376  377  378  379  380  381  382  \\\n",
       "525   2.300967   2.290210   2.315142  ...  NaN  NaN  NaN  NaN  NaN  NaN  NaN   \n",
       "526  94.036756  93.843472  93.865459  ...  NaN  NaN  NaN  NaN  NaN  NaN  NaN   \n",
       "527   0.000479   0.000512   0.000499  ...  NaN  NaN  NaN  NaN  NaN  NaN  NaN   \n",
       "528   0.002021   0.002175   0.002199  ...  NaN  NaN  NaN  NaN  NaN  NaN  NaN   \n",
       "529   0.000025   0.000134   0.000022  ...  NaN  NaN  NaN  NaN  NaN  NaN  NaN   \n",
       "530   2.298946   2.288035   2.312943  ...  NaN  NaN  NaN  NaN  NaN  NaN  NaN   \n",
       "531  16.282615  16.293415  16.268600  ...  NaN  NaN  NaN  NaN  NaN  NaN  NaN   \n",
       "\n",
       "     383  384  385  \n",
       "525  NaN  NaN  NaN  \n",
       "526  NaN  NaN  NaN  \n",
       "527  NaN  NaN  NaN  \n",
       "528  NaN  NaN  NaN  \n",
       "529  NaN  NaN  NaN  \n",
       "530  NaN  NaN  NaN  \n",
       "531  NaN  NaN  NaN  \n",
       "\n",
       "[7 rows x 386 columns]"
      ]
     },
     "execution_count": 17,
     "metadata": {},
     "output_type": "execute_result"
    }
   ],
   "source": [
    "df2_outlier = df2[outliers2]\n",
    "df2_outlier"
   ]
  },
  {
   "cell_type": "markdown",
   "metadata": {},
   "source": [
    "remove outlier"
   ]
  },
  {
   "cell_type": "code",
   "execution_count": 18,
   "metadata": {},
   "outputs": [],
   "source": [
    "df2 = df2[~outliers2]"
   ]
  },
  {
   "cell_type": "code",
   "execution_count": 19,
   "metadata": {
    "scrolled": true
   },
   "outputs": [
    {
     "data": {
      "text/plain": [
       "(588, 386)"
      ]
     },
     "execution_count": 19,
     "metadata": {},
     "output_type": "execute_result"
    }
   ],
   "source": [
    "df2.shape"
   ]
  },
  {
   "cell_type": "markdown",
   "metadata": {},
   "source": [
    "### big data analysis sausage maker\n",
    "(reorganized into a big scary function)"
   ]
  },
  {
   "cell_type": "code",
   "execution_count": 20,
   "metadata": {},
   "outputs": [],
   "source": [
    "def analyze_data(df1, df2, df1_copy):\n",
    "    # df_t_total, df_comm, df_comp contains timing for all ranks across all repeats and all N_p\n",
    "    ind = []                # Indices for Total number of ranks and repeat\n",
    "    df_comm = []            # Communication time \n",
    "    df_comp = []            # Compute time\n",
    "    df_t_total = []         # Total time for the task\n",
    "    df_close = []\n",
    "    for name, group in df2.groupby([0,1]):\n",
    "        group.index = range(7)\n",
    "        df_t_total.append(group.iloc[0,2:])\n",
    "        ind.append(group.iloc[0,:1])\n",
    "        df_comm.append(group.loc[3])\n",
    "        df_comp.append(group.loc[5])\n",
    "        df_close.append(group.loc[6])\n",
    "\n",
    "    # Communication time averaged over all ranks for each run\n",
    "    df_comm1 = pd.DataFrame(df_comm).loc[2:].groupby(0, as_index=False).mean()\n",
    "\n",
    "    # Compute time averaged over all ranks for each run\n",
    "    df_comp1 = pd.DataFrame(df_comp).loc[2:].groupby(0, as_index=False).mean()\n",
    "\n",
    "    # Total time averaged over all repeats for each N_p\n",
    "    df_t_tot1 = pd.concat([pd.DataFrame(ind, index=range(len(ind))), \n",
    "                           pd.DataFrame(df_t_total, index=range(len(ind)))], axis=1).loc[2:].groupby(0, as_index=False).mean() \n",
    "\n",
    "    # Total time for each repeat and each N_p\n",
    "    df_t_tot_rank = pd.concat([pd.DataFrame(ind, index=range(len(ind))), pd.DataFrame(df_t_total, index=range(len(ind)))], axis=1)\n",
    "\n",
    "    # Communication time for each repeat and each N_p\n",
    "    df_comm_rank = pd.DataFrame(df_comm, index=range(len(ind)))\n",
    "\n",
    "    # Compute time for each repeat and each N_p\n",
    "    df_comp_rank = pd.DataFrame(df_comp, index=range(len(ind)))\n",
    "\n",
    "    # Close time for each repeat and each N_p\n",
    "    df_close_rank = pd.DataFrame(df_close, index=range(len(ind)))\n",
    "\n",
    "    # Max value of each timing across all ranks per N_p per repeat \n",
    "    df_max_Np = df1_copy.groupby(['blocks','repeat'], as_index=False).max()\n",
    "\n",
    "    # Max value of each timing across all ranks per N_p per repeat AVERAGED OVER REPEATS\n",
    "    df_avg_repeat = df_max_Np.groupby('blocks', as_index=False).mean()\n",
    "\n",
    "    df_std_repeat = df_max_Np.groupby('blocks', as_index=False).std().drop(['blocks','repeat','P_ID'],axis=1)\n",
    "    df_std_repeat.columns = ['std_t_comp','std_t_IO','std_t_IO_plus_t_comp','std_t_end_loop','std_t_init']\n",
    "\n",
    "    # Max value of communication across all ranks per N_p per repeat \n",
    "    df_comm_max_repeat = pd.concat([df_comm_rank.loc[:,:1],df_comm_rank.loc[:,2:].max(axis=1)],axis=1)\n",
    "    df_comm_max_repeat.columns = [0,1,2]\n",
    "\n",
    "    df_comm_max_avg_repeat = df_comm_max_repeat.groupby(0, as_index=False).mean()\n",
    "    df_comm_max_std_repeat = df_comm_max_repeat.groupby(0, as_index=False).std()\n",
    "\n",
    "    # Concat all timing into one single dataframe.\n",
    "    df_avg_repeat = pd.concat([df_avg_repeat,df_comm_max_avg_repeat[2]],axis=1)\n",
    "    df_avg_repeat.columns = [u'blocks', u'repeat', u'P_ID', u't_comp', u't_IO', u't_IO_plus_t_comp',\n",
    "                             u't_end_loop', u't_init','Communication']\n",
    "\n",
    "    # Calculate standard deviation for all timings in df_avg_repeat\n",
    "    df_std_repeat = df_max_Np.groupby('blocks', as_index=False).std().drop(['blocks','repeat','P_ID'],axis=1)\n",
    "    df_std_repeat = pd.concat([df_std_repeat,df_comm_max_std_repeat[2]],axis=1)\n",
    "    df_std_repeat.columns = ['std_t_comp','std_t_IO','std_t_IO_plus_t_comp','std_t_end_loop','std_t_init','std_comm'] \n",
    "\n",
    "    # Concat timing values and calculated standard deviation into one dataframe.\n",
    "    dff = pd.concat([df_avg_repeat,df_std_repeat],axis=1)\n",
    "\n",
    "    # Compute time averaged over all ranks for each repeat and N_p\n",
    "    df_comp2 = pd.DataFrame(df_comp, index=range(len(ind))).loc[:,2:].mean(axis=1)\n",
    "\n",
    "    # Communication time averaged over all ranks for each repeat and N_p\n",
    "    df_comm2 = pd.DataFrame(df_comm, index=range(len(ind))).loc[:,2:].mean(axis=1)\n",
    "\n",
    "    # Max total time of all ranks for each repeat and N_p\n",
    "    df_t_tot = pd.concat([pd.DataFrame(ind, index=range(len(ind)), dtype=int), pd.DataFrame(df_t_total, index=range(len(ind))).max(axis=1)], axis=1)\n",
    "\n",
    "    df_t_tot.columns = ['size', 't_tot_max']\n",
    "\n",
    "    # Combine df_comm2, df_comp2 into df_time\n",
    "    df_time = pd.concat([pd.DataFrame(ind, index=range(len(ind)), dtype=int),df_comm2, df_comp2], axis=1)\n",
    "    df_time.columns = ['size', 'Communication Time', 'RMSD time']\n",
    "\n",
    "    a = pd.concat([df_t_tot, df_comm2, df_comp2], axis=1)\n",
    "\n",
    "    df_time = df_time.groupby('size',as_index=False).mean()\n",
    "\n",
    "    df_time['overhead'] = abs(df_time['RMSD time']-df1['t_IO_plus_t_comp_max'])\n",
    "\n",
    "    df_t_tot_final = pd.concat([df_t_tot.groupby('size', as_index=False).mean(),df_t_tot.groupby('size', as_index=False).std().iloc[:,1]], axis=1)\n",
    "\n",
    "    df_t_tot_final.columns = ['size', 't_tot_max', 'std_tot_max']\n",
    "\n",
    "    df6 = pd.concat([df2.loc[:,:1], df2.loc[:,2:].mean(axis=1), df2.loc[:,2:].std(axis=1), df2.loc[:,2:].max(axis=1)], axis=1)\n",
    "\n",
    "    df6.columns = ['size', 'repeat', 't_mean', 'std_t_mean', 't_max']\n",
    "\n",
    "    a = []\n",
    "    b = []\n",
    "    for name, group in df6.groupby(['size', 'repeat']):\n",
    "        group.index = range(7)\n",
    "        a.append(group.iloc[3,:])\n",
    "        b.append(group.iloc[5,:])\n",
    "\n",
    "    a = pd.concat([pd.DataFrame(a, index=range(len(a))),pd.DataFrame(b, index=range(len(b))).loc[:,['t_mean', 'std_t_mean', 't_max']]], axis=1)\n",
    "\n",
    "    a.columns = ['size', 'repeat', 't_comm_mean', 'std_t_comm', 't_comm_max', 't_block_RMSD_mean', 'std_t_block_RMSD', 't_block_RMSD_max']\n",
    "\n",
    "    a_final = pd.concat([a.groupby('size', as_index=False).mean().loc[:,['t_comm_mean', 't_comm_max', 't_block_RMSD_mean', 't_block_RMSD_max']], a.groupby('size', as_index=False).std().loc[:,['t_comm_mean', 't_comm_max', 't_block_RMSD_mean', 't_block_RMSD_max']]], axis=1)\n",
    "\n",
    "    a_final.columns = ['t_comm_mean', 't_comm_max', 't_block_RMSD_mean', 't_block_RMSD_max', 'std_t_comm_mean', 'std_t_comm_max', 'std_t_block_RMSD_mean', 'std_t_block_RMSD_max']\n",
    "\n",
    "    df7 = pd.concat([df1, df_t_tot_final.loc[:,['t_tot_max', 'std_tot_max']], a_final], axis=1)\n",
    "\n",
    "    df7['speed_up'] = df7.loc[0,'t_tot_max']/df7.loc[:,'t_tot_max']\n",
    "    df7['std_S'] = ((df7.loc[0,'std_tot_max']/df7.loc[:,'t_tot_max'])**2+\n",
    "                    (df7.loc[0,'t_tot_max']*df7.loc[:,'std_tot_max']/df7.loc[:,'t_tot_max']**2)**2)**0.5\n",
    "\n",
    "    df7['efficiency'] = df7.loc[:,'speed_up']/df7.loc[:,'blocks']\n",
    "    df7['std_E'] = df7['std_S']/df7['blocks']\n",
    "\n",
    "    df7['Ideal_Scaling'] = df7['blocks']\n",
    "    df7['Ideal_Efficiency'] = 1.\n",
    "    \n",
    "    return df7, df_std_repeat, df_avg_repeat, df_comm_rank"
   ]
  },
  {
   "cell_type": "code",
   "execution_count": 21,
   "metadata": {},
   "outputs": [],
   "source": [
    "df7, df_std_repeat, df_avg_repeat, df_comm_rank = analyze_data(df1, df2, df1_copy)"
   ]
  },
  {
   "cell_type": "markdown",
   "metadata": {},
   "source": [
    "outlier"
   ]
  },
  {
   "cell_type": "code",
   "execution_count": 22,
   "metadata": {},
   "outputs": [],
   "source": [
    "df7_outlier, df_std_repeat_outlier, df_avg_repeat_outlier, df_comm_rank_outlier = analyze_data(df1_outlier, df2_outlier, df1_copy_outlier)"
   ]
  },
  {
   "cell_type": "code",
   "execution_count": 23,
   "metadata": {},
   "outputs": [],
   "source": [
    "df7_outlier[\"speed_up\"] = df7.loc[0,'t_tot_max']/df7_outlier.loc[:,'t_tot_max']\n",
    "df7_outlier['efficiency'] = df7_outlier.loc[:,'speed_up']/df7_outlier.loc[:,'blocks']"
   ]
  },
  {
   "cell_type": "code",
   "execution_count": 24,
   "metadata": {},
   "outputs": [
    {
     "name": "stdout",
     "output_type": "stream",
     "text": [
      "0    35.306965\n",
      "Name: speed_up, dtype: float64\n",
      "0    0.122594\n",
      "Name: efficiency, dtype: float64\n"
     ]
    }
   ],
   "source": [
    "print(df7_outlier[\"speed_up\"])\n",
    "print(df7_outlier[\"efficiency\"])"
   ]
  },
  {
   "cell_type": "code",
   "execution_count": 25,
   "metadata": {},
   "outputs": [
    {
     "data": {
      "text/plain": [
       "0   NaN\n",
       "Name: std_S, dtype: float64"
      ]
     },
     "execution_count": 25,
     "metadata": {},
     "output_type": "execute_result"
    }
   ],
   "source": [
    "df7_outlier['std_S']"
   ]
  },
  {
   "cell_type": "markdown",
   "metadata": {},
   "source": [
    "# Output Post-processed DataFrames  "
   ]
  },
  {
   "cell_type": "markdown",
   "metadata": {},
   "source": [
    "## Output Calculated Timings Inside RMSD Block  "
   ]
  },
  {
   "cell_type": "code",
   "execution_count": 26,
   "metadata": {},
   "outputs": [
    {
     "ename": "NameError",
     "evalue": "name 'dff' is not defined",
     "output_type": "error",
     "traceback": [
      "\u001b[0;31m---------------------------------------------------------------------------\u001b[0m",
      "\u001b[0;31mNameError\u001b[0m                                 Traceback (most recent call last)",
      "\u001b[0;32m<ipython-input-26-fc17c7d7cb23>\u001b[0m in \u001b[0;36m<module>\u001b[0;34m\u001b[0m\n\u001b[0;32m----> 1\u001b[0;31m \u001b[0mdff\u001b[0m\u001b[0;34m.\u001b[0m\u001b[0mto_csv\u001b[0m\u001b[0;34m(\u001b[0m\u001b[0;34m'dff-comm-updated-rmsd-parallel-IO-Comet_no-outlier.csv'\u001b[0m\u001b[0;34m)\u001b[0m\u001b[0;34m\u001b[0m\u001b[0;34m\u001b[0m\u001b[0m\n\u001b[0m",
      "\u001b[0;31mNameError\u001b[0m: name 'dff' is not defined"
     ]
    }
   ],
   "source": [
    "dff.to_csv('dff-comm-updated-rmsd-parallel-IO-Comet_no-outlier.csv')"
   ]
  },
  {
   "cell_type": "markdown",
   "metadata": {},
   "source": [
    "## Output Calculated Timing for Different Sections of the Code"
   ]
  },
  {
   "cell_type": "code",
   "execution_count": 27,
   "metadata": {},
   "outputs": [],
   "source": [
    "df7.to_csv('df7-comm-updated-rmsd-parallel-IO-Comet_no-outlier.csv')"
   ]
  },
  {
   "cell_type": "markdown",
   "metadata": {},
   "source": [
    "# Plot the Data "
   ]
  },
  {
   "cell_type": "markdown",
   "metadata": {},
   "source": [
    "### detailed comparison of averages"
   ]
  },
  {
   "cell_type": "code",
   "execution_count": 343,
   "metadata": {},
   "outputs": [],
   "source": [
    "%matplotlib inline"
   ]
  },
  {
   "cell_type": "code",
   "execution_count": 352,
   "metadata": {},
   "outputs": [],
   "source": [
    "from matplotlib.pyplot import *\n",
    "import matplotlib\n",
    "plt.rcParams['font.size'] = 9\n",
    "\n",
    "def plot_comparison(df_std_repeat, df_avg_repeat, name='time_comp_IO_comparison', ax=None, **kwargs):\n",
    "    if ax is None:\n",
    "        fig = plt.figure(figsize=(4,4))\n",
    "        axes = fig.add_subplot(1,1,1)\n",
    "    else:\n",
    "        fig = ax.figure\n",
    "        axes = ax\n",
    "\n",
    "    if df_std_repeat is not None:\n",
    "        yerrs = [df_std_repeat['std_t_IO'].values.transpose().tolist(),df_std_repeat['std_t_comp'].values.transpose().tolist(),\n",
    "                 df_std_repeat['std_t_init'].values.transpose().tolist(),df_std_repeat['std_comm'].values.transpose().tolist()]\n",
    "    else:\n",
    "        yerrs = None\n",
    "    width = 0.85\n",
    "\n",
    "    df_avg_repeat.index = df_avg_repeat.loc[:,'blocks']\n",
    "    df_avg_repeat['Communication'][1] = np.nan\n",
    "    df_avg_repeat.loc[:,['t_IO','t_comp','t_init','Communication']].plot(color=['blue','yellow','grey','red'],\n",
    "                                                                         yerr=yerrs,\n",
    "                                                                         ax=axes, **kwargs) \n",
    "\n",
    "    plt.style.use('ggplot')\n",
    "    sns.set_style('ticks')\n",
    "    axes.set_xlabel('$N_{Processes}$')   \n",
    "    axes.set_ylabel('Time (s)')\n",
    "    plt.xscale('log')\n",
    "    plt.yscale('log')\n",
    "\n",
    "    axes.set_ylim(1e-4, 1200)\n",
    "    axes.set_xlim(1, 400)\n",
    "    axes.yaxis.grid(which='major', linewidth='0.5', color='grey')\n",
    "    axes.xaxis.grid(which='major', linewidth='0.5', color='grey')\n",
    "    axes.yaxis.grid(which='minor', linewidth='0.5', color='grey')\n",
    "    axes.xaxis.grid(which='minor', linewidth='0.5', color='grey') \n",
    "    sns.despine(offset=10, ax=axes)\n",
    "\n",
    "    lgd = plt.legend(['IO','Compute','Opening Trajectory','Communication'],loc='upper center', bbox_to_anchor=(0.43, -0.38),\n",
    "                     frameon=False, shadow=True, ncol=2, prop={'size':12})\n",
    "    plt.tight_layout()\n",
    "    fig.subplots_adjust(bottom=0.4)\n",
    "    fig.savefig('{}.pdf'.format(name))\n",
    "    return axes"
   ]
  },
  {
   "cell_type": "code",
   "execution_count": 353,
   "metadata": {
    "scrolled": false
   },
   "outputs": [
    {
     "name": "stderr",
     "output_type": "stream",
     "text": [
      "/Users/oliver/anaconda3/envs/mda3/lib/python3.6/site-packages/ipykernel_launcher.py:21: SettingWithCopyWarning: \n",
      "A value is trying to be set on a copy of a slice from a DataFrame\n",
      "\n",
      "See the caveats in the documentation: http://pandas.pydata.org/pandas-docs/stable/indexing.html#indexing-view-versus-copy\n",
      "/Users/oliver/anaconda3/envs/mda3/lib/python3.6/site-packages/numpy/core/numeric.py:538: UserWarning: Warning: converting a masked element to nan.\n",
      "  return array(a, dtype, copy=False, order=order)\n",
      "/Users/oliver/anaconda3/envs/mda3/lib/python3.6/site-packages/numpy/core/numeric.py:538: UserWarning: Warning: converting a masked element to nan.\n",
      "  return array(a, dtype, copy=False, order=order)\n"
     ]
    },
    {
     "data": {
      "image/png": "[encoded data removed]",
      "text/plain": [
       "<Figure size 288x288 with 1 Axes>"
      ]
     },
     "metadata": {},
     "output_type": "display_data"
    }
   ],
   "source": [
    "ax = plot_comparison(df_std_repeat, df_avg_repeat, name='time_comp_IO_comparison-no_outlier')"
   ]
  },
  {
   "cell_type": "code",
   "execution_count": 354,
   "metadata": {},
   "outputs": [
    {
     "data": {
      "text/html": [
       "<div>\n",
       "<style scoped>\n",
       "    .dataframe tbody tr th:only-of-type {\n",
       "        vertical-align: middle;\n",
       "    }\n",
       "\n",
       "    .dataframe tbody tr th {\n",
       "        vertical-align: top;\n",
       "    }\n",
       "\n",
       "    .dataframe thead th {\n",
       "        text-align: right;\n",
       "    }\n",
       "</style>\n",
       "<table border=\"1\" class=\"dataframe\">\n",
       "  <thead>\n",
       "    <tr style=\"text-align: right;\">\n",
       "      <th></th>\n",
       "      <th>t_IO</th>\n",
       "      <th>t_comp</th>\n",
       "      <th>t_init</th>\n",
       "      <th>Communication</th>\n",
       "    </tr>\n",
       "    <tr>\n",
       "      <th>blocks</th>\n",
       "      <th></th>\n",
       "      <th></th>\n",
       "      <th></th>\n",
       "      <th></th>\n",
       "    </tr>\n",
       "  </thead>\n",
       "  <tbody>\n",
       "    <tr>\n",
       "      <th>288</th>\n",
       "      <td>17.673447</td>\n",
       "      <td>0.909397</td>\n",
       "      <td>0.001391</td>\n",
       "      <td>0.041964</td>\n",
       "    </tr>\n",
       "  </tbody>\n",
       "</table>\n",
       "</div>"
      ],
      "text/plain": [
       "             t_IO    t_comp    t_init  Communication\n",
       "blocks                                              \n",
       "288     17.673447  0.909397  0.001391       0.041964"
      ]
     },
     "execution_count": 354,
     "metadata": {},
     "output_type": "execute_result"
    }
   ],
   "source": [
    "df_avg_repeat_outlier.loc[:,['t_IO','t_comp','t_init','Communication']]"
   ]
  },
  {
   "cell_type": "code",
   "execution_count": 399,
   "metadata": {},
   "outputs": [
    {
     "name": "stderr",
     "output_type": "stream",
     "text": [
      "/Users/oliver/anaconda3/envs/mda3/lib/python3.6/site-packages/ipykernel_launcher.py:21: SettingWithCopyWarning: \n",
      "A value is trying to be set on a copy of a slice from a DataFrame\n",
      "\n",
      "See the caveats in the documentation: http://pandas.pydata.org/pandas-docs/stable/indexing.html#indexing-view-versus-copy\n",
      "/Users/oliver/anaconda3/envs/mda3/lib/python3.6/site-packages/pandas/plotting/_core.py:1001: UserWarning: Attempting to set identical left == right == 288.0 results in singular transformations; automatically expanding.\n",
      "  ax.set_xlim(left, right)\n",
      "/Users/oliver/anaconda3/envs/mda3/lib/python3.6/site-packages/pandas/plotting/_core.py:1001: UserWarning: Attempting to set identical left == right == 288.0 results in singular transformations; automatically expanding.\n",
      "  ax.set_xlim(left, right)\n",
      "/Users/oliver/anaconda3/envs/mda3/lib/python3.6/site-packages/pandas/plotting/_core.py:1001: UserWarning: Attempting to set identical left == right == 288.0 results in singular transformations; automatically expanding.\n",
      "  ax.set_xlim(left, right)\n",
      "/Users/oliver/anaconda3/envs/mda3/lib/python3.6/site-packages/pandas/plotting/_core.py:1001: UserWarning: Attempting to set identical left == right == 288.0 results in singular transformations; automatically expanding.\n",
      "  ax.set_xlim(left, right)\n",
      "/Users/oliver/anaconda3/envs/mda3/lib/python3.6/site-packages/ipykernel_launcher.py:21: SettingWithCopyWarning: \n",
      "A value is trying to be set on a copy of a slice from a DataFrame\n",
      "\n",
      "See the caveats in the documentation: http://pandas.pydata.org/pandas-docs/stable/indexing.html#indexing-view-versus-copy\n",
      "/Users/oliver/anaconda3/envs/mda3/lib/python3.6/site-packages/numpy/core/numeric.py:538: UserWarning: Warning: converting a masked element to nan.\n",
      "  return array(a, dtype, copy=False, order=order)\n",
      "/Users/oliver/anaconda3/envs/mda3/lib/python3.6/site-packages/numpy/core/numeric.py:538: UserWarning: Warning: converting a masked element to nan.\n",
      "  return array(a, dtype, copy=False, order=order)\n"
     ]
    },
    {
     "data": {
      "text/plain": [
       "<matplotlib.axes._subplots.AxesSubplot at 0x11e8127f0>"
      ]
     },
     "execution_count": 399,
     "metadata": {},
     "output_type": "execute_result"
    },
    {
     "data": {
      "image/png": "[encoded data removed]",
      "text/plain": [
       "<Figure size 288x288 with 1 Axes>"
      ]
     },
     "metadata": {},
     "output_type": "display_data"
    }
   ],
   "source": [
    "ax_outlier = plot_comparison(None, df_avg_repeat_outlier, name='hdf5-time_comp_IO_comparison-outlier', marker=\"x\")\n",
    "plot_comparison(df_std_repeat, df_avg_repeat, name='hdf5-time_comp_IO_comparison-combined', ax=ax_outlier)"
   ]
  },
  {
   "cell_type": "code",
   "execution_count": null,
   "metadata": {},
   "outputs": [],
   "source": []
  },
  {
   "cell_type": "markdown",
   "metadata": {},
   "source": [
    "### per rank "
   ]
  },
  {
   "cell_type": "code",
   "execution_count": 300,
   "metadata": {
    "scrolled": true
   },
   "outputs": [],
   "source": [
    "def plot_rank(block, repeat, \n",
    "              df_comm_rank=df_comm_rank,\n",
    "              df1_copy=df1_copy,\n",
    "              \n",
    "             ):\n",
    "    \"\"\"Uses lots of data frames from outside scope\"\"\"\n",
    "    \n",
    "    fig_name = 'BarPlot-rank-comparison_{}_{}'.format(block,repeat)\n",
    "    df_comm_dist = df_comm_rank[(df_comm_rank[0]==block) & (df_comm_rank[1]==repeat)].iloc[0,2:block+2]\n",
    "    df_comm_dist.index = range(2,block+2)\n",
    "    df_compute_all_frame_rank = df1_copy[(df1_copy['blocks']==block) & (df1_copy['repeat']==repeat)]['t_comp']\n",
    "    df_compute_all_frame_rank.index = range(2,block+2)\n",
    "    df_IO_all_frame_rank = df1_copy[(df1_copy['blocks']==block) & (df1_copy['repeat']==repeat)]['t_IO']\n",
    "    df_IO_all_frame_rank.index = range(2,block+2)\n",
    "    df_IO_plus_comp_rank = df1_copy[(df1_copy['blocks']==block) & (df1_copy['repeat']==repeat)]['t_IO_plus_t_comp']\n",
    "    df_IO_plus_comp_rank.index = range(2,block+2)\n",
    "    df_clone_rank = df1_copy[(df1_copy['blocks']==block) & (df1_copy['repeat']==repeat)]['t_init']\n",
    "    df_clone_rank.index = range(2,block+2)\n",
    "    df_end_loop_rank = df1_copy[(df1_copy['blocks']==block) & (df1_copy['repeat']==repeat)]['t_end_loop']\n",
    "    df_end_loop_rank.index = range(2,block+2)\n",
    "    df_overhead1 = df_IO_plus_comp_rank.iloc[:]-df_IO_all_frame_rank.iloc[:]-df_compute_all_frame_rank.iloc[:]-df_end_loop_rank.iloc[:]\n",
    "    df_overhead1.index = range(2,block+2)\n",
    "    df_overhead2 = (df_comp_rank[(df_comp_rank[0]==block) & (df_comp_rank[1]==repeat)].iloc[0,2:block+2]-\n",
    "                                df_IO_plus_comp_rank.iloc[:]-df_clone_rank.iloc[:])\n",
    "    df_overhead2.index = range(2,block+2)\n",
    "\n",
    "    ax = df_compute_all_frame_rank.plot(kind='bar', figsize=(6,4), color='yellow', label='Compute')\n",
    "    ax = df_IO_all_frame_rank.plot(kind='bar', figsize=(6,4), color='blue', label='IO', bottom = df_compute_all_frame_rank)\n",
    "    ax = df_comm_dist.plot(kind='bar', figsize=(6,4), color='red', label='Communication', bottom = \n",
    "                           [df_compute_all_frame_rank.iloc[j]+df_IO_all_frame_rank.iloc[j] for j in range(len(df_compute_all_frame_rank))])\n",
    "\n",
    "    ax = df_overhead2.plot(kind='bar', figsize=(6,4), color='green', label='Overhead2', bottom = \n",
    "                           [df_compute_all_frame_rank.iloc[j]+df_IO_all_frame_rank.iloc[j]+\n",
    "                            df_comm_dist.iloc[j] for j in range(len(df_compute_all_frame_rank))])\n",
    "\n",
    "    ax = df_overhead1.plot(kind='bar', figsize=(6,4), color='black', label='Overhead1', bottom = \n",
    "                           [df_compute_all_frame_rank.iloc[j]+df_IO_all_frame_rank.iloc[j]+df_comm_dist.iloc[j]+\n",
    "                            df_overhead2.iloc[j] for j in range(len(df_compute_all_frame_rank))])\n",
    "\n",
    "    ax = df_clone_rank.plot(kind='bar', figsize=(6,4), color='gray', label='Opening_trajectory', \n",
    "                            bottom = [df_compute_all_frame_rank.iloc[j]+df_IO_all_frame_rank.iloc[j]+df_comm_dist.iloc[j]+\n",
    "                                      df_overhead2.iloc[j]+df_overhead1.iloc[j] for j in range(len(df_compute_all_frame_rank))])\n",
    "\n",
    "    ax = df_end_loop_rank.plot(kind='bar', figsize=(6,4), color='pink', label='Ending_loop', \n",
    "                               bottom = [df_compute_all_frame_rank.iloc[j]+df_IO_all_frame_rank.iloc[j]+df_comm_dist.iloc[j]+\n",
    "                                         df_overhead2.iloc[j]+df_overhead1.iloc[j]+\n",
    "                                         df_clone_rank.iloc[j] for j in range(len(df_compute_all_frame_rank))])\n",
    "\n",
    "    ax.yaxis.grid(which='major',linestyle=':', linewidth='0.5', color='black')\n",
    "\n",
    "    plt.style.use('ggplot')\n",
    "    sns.set_style('ticks')\n",
    "    plt.rcParams['font.size'] = 12\n",
    "    ax.set_xlabel('Processor Ranks')   \n",
    "    ax.set_ylabel('Total Time (s)')\n",
    "    sns.despine(offset=10, ax=ax)\n",
    "\n",
    "    plt.tight_layout()\n",
    "    plt.xticks(range(0,block,20), range(0,block,20))\n",
    "    fig = ax.get_figure()\n",
    "    lgd = ax.legend(loc='upper center', bbox_to_anchor=(0.45, -0.28),frameon=False,fancybox=True, shadow=True, ncol=3, prop={'size':12})\n",
    "    plt.gcf().subplots_adjust(bottom=0.35)\n",
    "    fig.savefig('{}.pdf'.format(fig_name), bbox_inches='tight')\n",
    "    return fig"
   ]
  },
  {
   "cell_type": "code",
   "execution_count": 359,
   "metadata": {},
   "outputs": [
    {
     "data": {
      "image/png": "[encoded data removed]",
      "text/plain": [
       "<Figure size 432x288 with 1 Axes>"
      ]
     },
     "metadata": {},
     "output_type": "display_data"
    }
   ],
   "source": [
    "fig = plot_rank(288, 5, df_comm_rank=df_comm_rank, df1_copy=df1_copy)"
   ]
  },
  {
   "cell_type": "markdown",
   "metadata": {},
   "source": [
    "The one run with bad outliers (N=288 cores, repeat 1):"
   ]
  },
  {
   "cell_type": "code",
   "execution_count": 360,
   "metadata": {
    "collapsed": true
   },
   "outputs": [
    {
     "ename": "IndexError",
     "evalue": "single positional indexer is out-of-bounds",
     "output_type": "error",
     "traceback": [
      "\u001b[0;31m---------------------------------------------------------------------------\u001b[0m",
      "\u001b[0;31mIndexError\u001b[0m                                Traceback (most recent call last)",
      "\u001b[0;32m<ipython-input-360-7e1e4d5d4010>\u001b[0m in \u001b[0;36m<module>\u001b[0;34m\u001b[0m\n\u001b[0;32m----> 1\u001b[0;31m \u001b[0mfig\u001b[0m \u001b[0;34m=\u001b[0m \u001b[0mplot_rank\u001b[0m\u001b[0;34m(\u001b[0m\u001b[0;36m288\u001b[0m\u001b[0;34m,\u001b[0m \u001b[0;36m1\u001b[0m\u001b[0;34m,\u001b[0m \u001b[0mdf_comm_rank\u001b[0m\u001b[0;34m=\u001b[0m\u001b[0mdf_comm_rank_outlier\u001b[0m\u001b[0;34m,\u001b[0m \u001b[0mdf1_copy\u001b[0m\u001b[0;34m=\u001b[0m\u001b[0mdf1_copy_outlier\u001b[0m\u001b[0;34m)\u001b[0m\u001b[0;34m\u001b[0m\u001b[0;34m\u001b[0m\u001b[0m\n\u001b[0m\u001b[1;32m      2\u001b[0m \u001b[0;31m# see figure from previous running of this NB\u001b[0m\u001b[0;34m\u001b[0m\u001b[0;34m\u001b[0m\u001b[0;34m\u001b[0m\u001b[0m\n",
      "\u001b[0;32m<ipython-input-300-d244e86f91dc>\u001b[0m in \u001b[0;36mplot_rank\u001b[0;34m(block, repeat, df_comm_rank, df1_copy)\u001b[0m\n\u001b[1;32m     22\u001b[0m     \u001b[0mdf_overhead1\u001b[0m\u001b[0;34m.\u001b[0m\u001b[0mindex\u001b[0m \u001b[0;34m=\u001b[0m \u001b[0mrange\u001b[0m\u001b[0;34m(\u001b[0m\u001b[0;36m2\u001b[0m\u001b[0;34m,\u001b[0m\u001b[0mblock\u001b[0m\u001b[0;34m+\u001b[0m\u001b[0;36m2\u001b[0m\u001b[0;34m)\u001b[0m\u001b[0;34m\u001b[0m\u001b[0;34m\u001b[0m\u001b[0m\n\u001b[1;32m     23\u001b[0m     df_overhead2 = (df_comp_rank[(df_comp_rank[0]==block) & (df_comp_rank[1]==repeat)].iloc[0,2:block+2]-\n\u001b[0;32m---> 24\u001b[0;31m                                 df_IO_plus_comp_rank.iloc[:]-df_clone_rank.iloc[:])\n\u001b[0m\u001b[1;32m     25\u001b[0m     \u001b[0mdf_overhead2\u001b[0m\u001b[0;34m.\u001b[0m\u001b[0mindex\u001b[0m \u001b[0;34m=\u001b[0m \u001b[0mrange\u001b[0m\u001b[0;34m(\u001b[0m\u001b[0;36m2\u001b[0m\u001b[0;34m,\u001b[0m\u001b[0mblock\u001b[0m\u001b[0;34m+\u001b[0m\u001b[0;36m2\u001b[0m\u001b[0;34m)\u001b[0m\u001b[0;34m\u001b[0m\u001b[0;34m\u001b[0m\u001b[0m\n\u001b[1;32m     26\u001b[0m \u001b[0;34m\u001b[0m\u001b[0m\n",
      "\u001b[0;32m~/anaconda3/envs/mda3/lib/python3.6/site-packages/pandas/core/indexing.py\u001b[0m in \u001b[0;36m__getitem__\u001b[0;34m(self, key)\u001b[0m\n\u001b[1;32m   1492\u001b[0m             \u001b[0;32mexcept\u001b[0m \u001b[0;34m(\u001b[0m\u001b[0mKeyError\u001b[0m\u001b[0;34m,\u001b[0m \u001b[0mIndexError\u001b[0m\u001b[0;34m,\u001b[0m \u001b[0mAttributeError\u001b[0m\u001b[0;34m)\u001b[0m\u001b[0;34m:\u001b[0m\u001b[0;34m\u001b[0m\u001b[0;34m\u001b[0m\u001b[0m\n\u001b[1;32m   1493\u001b[0m                 \u001b[0;32mpass\u001b[0m\u001b[0;34m\u001b[0m\u001b[0;34m\u001b[0m\u001b[0m\n\u001b[0;32m-> 1494\u001b[0;31m             \u001b[0;32mreturn\u001b[0m \u001b[0mself\u001b[0m\u001b[0;34m.\u001b[0m\u001b[0m_getitem_tuple\u001b[0m\u001b[0;34m(\u001b[0m\u001b[0mkey\u001b[0m\u001b[0;34m)\u001b[0m\u001b[0;34m\u001b[0m\u001b[0;34m\u001b[0m\u001b[0m\n\u001b[0m\u001b[1;32m   1495\u001b[0m         \u001b[0;32melse\u001b[0m\u001b[0;34m:\u001b[0m\u001b[0;34m\u001b[0m\u001b[0;34m\u001b[0m\u001b[0m\n\u001b[1;32m   1496\u001b[0m             \u001b[0;31m# we by definition only have the 0th axis\u001b[0m\u001b[0;34m\u001b[0m\u001b[0;34m\u001b[0m\u001b[0;34m\u001b[0m\u001b[0m\n",
      "\u001b[0;32m~/anaconda3/envs/mda3/lib/python3.6/site-packages/pandas/core/indexing.py\u001b[0m in \u001b[0;36m_getitem_tuple\u001b[0;34m(self, tup)\u001b[0m\n\u001b[1;32m   2141\u001b[0m     \u001b[0;32mdef\u001b[0m \u001b[0m_getitem_tuple\u001b[0m\u001b[0;34m(\u001b[0m\u001b[0mself\u001b[0m\u001b[0;34m,\u001b[0m \u001b[0mtup\u001b[0m\u001b[0;34m)\u001b[0m\u001b[0;34m:\u001b[0m\u001b[0;34m\u001b[0m\u001b[0;34m\u001b[0m\u001b[0m\n\u001b[1;32m   2142\u001b[0m \u001b[0;34m\u001b[0m\u001b[0m\n\u001b[0;32m-> 2143\u001b[0;31m         \u001b[0mself\u001b[0m\u001b[0;34m.\u001b[0m\u001b[0m_has_valid_tuple\u001b[0m\u001b[0;34m(\u001b[0m\u001b[0mtup\u001b[0m\u001b[0;34m)\u001b[0m\u001b[0;34m\u001b[0m\u001b[0;34m\u001b[0m\u001b[0m\n\u001b[0m\u001b[1;32m   2144\u001b[0m         \u001b[0;32mtry\u001b[0m\u001b[0;34m:\u001b[0m\u001b[0;34m\u001b[0m\u001b[0;34m\u001b[0m\u001b[0m\n\u001b[1;32m   2145\u001b[0m             \u001b[0;32mreturn\u001b[0m \u001b[0mself\u001b[0m\u001b[0;34m.\u001b[0m\u001b[0m_getitem_lowerdim\u001b[0m\u001b[0;34m(\u001b[0m\u001b[0mtup\u001b[0m\u001b[0;34m)\u001b[0m\u001b[0;34m\u001b[0m\u001b[0;34m\u001b[0m\u001b[0m\n",
      "\u001b[0;32m~/anaconda3/envs/mda3/lib/python3.6/site-packages/pandas/core/indexing.py\u001b[0m in \u001b[0;36m_has_valid_tuple\u001b[0;34m(self, key)\u001b[0m\n\u001b[1;32m    221\u001b[0m                 \u001b[0;32mraise\u001b[0m \u001b[0mIndexingError\u001b[0m\u001b[0;34m(\u001b[0m\u001b[0;34m'Too many indexers'\u001b[0m\u001b[0;34m)\u001b[0m\u001b[0;34m\u001b[0m\u001b[0;34m\u001b[0m\u001b[0m\n\u001b[1;32m    222\u001b[0m             \u001b[0;32mtry\u001b[0m\u001b[0;34m:\u001b[0m\u001b[0;34m\u001b[0m\u001b[0;34m\u001b[0m\u001b[0m\n\u001b[0;32m--> 223\u001b[0;31m                 \u001b[0mself\u001b[0m\u001b[0;34m.\u001b[0m\u001b[0m_validate_key\u001b[0m\u001b[0;34m(\u001b[0m\u001b[0mk\u001b[0m\u001b[0;34m,\u001b[0m \u001b[0mi\u001b[0m\u001b[0;34m)\u001b[0m\u001b[0;34m\u001b[0m\u001b[0;34m\u001b[0m\u001b[0m\n\u001b[0m\u001b[1;32m    224\u001b[0m             \u001b[0;32mexcept\u001b[0m \u001b[0mValueError\u001b[0m\u001b[0;34m:\u001b[0m\u001b[0;34m\u001b[0m\u001b[0;34m\u001b[0m\u001b[0m\n\u001b[1;32m    225\u001b[0m                 raise ValueError(\"Location based indexing can only have \"\n",
      "\u001b[0;32m~/anaconda3/envs/mda3/lib/python3.6/site-packages/pandas/core/indexing.py\u001b[0m in \u001b[0;36m_validate_key\u001b[0;34m(self, key, axis)\u001b[0m\n\u001b[1;32m   2068\u001b[0m             \u001b[0;32mreturn\u001b[0m\u001b[0;34m\u001b[0m\u001b[0;34m\u001b[0m\u001b[0m\n\u001b[1;32m   2069\u001b[0m         \u001b[0;32melif\u001b[0m \u001b[0mis_integer\u001b[0m\u001b[0;34m(\u001b[0m\u001b[0mkey\u001b[0m\u001b[0;34m)\u001b[0m\u001b[0;34m:\u001b[0m\u001b[0;34m\u001b[0m\u001b[0;34m\u001b[0m\u001b[0m\n\u001b[0;32m-> 2070\u001b[0;31m             \u001b[0mself\u001b[0m\u001b[0;34m.\u001b[0m\u001b[0m_validate_integer\u001b[0m\u001b[0;34m(\u001b[0m\u001b[0mkey\u001b[0m\u001b[0;34m,\u001b[0m \u001b[0maxis\u001b[0m\u001b[0;34m)\u001b[0m\u001b[0;34m\u001b[0m\u001b[0;34m\u001b[0m\u001b[0m\n\u001b[0m\u001b[1;32m   2071\u001b[0m         \u001b[0;32melif\u001b[0m \u001b[0misinstance\u001b[0m\u001b[0;34m(\u001b[0m\u001b[0mkey\u001b[0m\u001b[0;34m,\u001b[0m \u001b[0mtuple\u001b[0m\u001b[0;34m)\u001b[0m\u001b[0;34m:\u001b[0m\u001b[0;34m\u001b[0m\u001b[0;34m\u001b[0m\u001b[0m\n\u001b[1;32m   2072\u001b[0m             \u001b[0;31m# a tuple should already have been caught by this point\u001b[0m\u001b[0;34m\u001b[0m\u001b[0;34m\u001b[0m\u001b[0;34m\u001b[0m\u001b[0m\n",
      "\u001b[0;32m~/anaconda3/envs/mda3/lib/python3.6/site-packages/pandas/core/indexing.py\u001b[0m in \u001b[0;36m_validate_integer\u001b[0;34m(self, key, axis)\u001b[0m\n\u001b[1;32m   2137\u001b[0m         \u001b[0mlen_axis\u001b[0m \u001b[0;34m=\u001b[0m \u001b[0mlen\u001b[0m\u001b[0;34m(\u001b[0m\u001b[0mself\u001b[0m\u001b[0;34m.\u001b[0m\u001b[0mobj\u001b[0m\u001b[0;34m.\u001b[0m\u001b[0m_get_axis\u001b[0m\u001b[0;34m(\u001b[0m\u001b[0maxis\u001b[0m\u001b[0;34m)\u001b[0m\u001b[0;34m)\u001b[0m\u001b[0;34m\u001b[0m\u001b[0;34m\u001b[0m\u001b[0m\n\u001b[1;32m   2138\u001b[0m         \u001b[0;32mif\u001b[0m \u001b[0mkey\u001b[0m \u001b[0;34m>=\u001b[0m \u001b[0mlen_axis\u001b[0m \u001b[0;32mor\u001b[0m \u001b[0mkey\u001b[0m \u001b[0;34m<\u001b[0m \u001b[0;34m-\u001b[0m\u001b[0mlen_axis\u001b[0m\u001b[0;34m:\u001b[0m\u001b[0;34m\u001b[0m\u001b[0;34m\u001b[0m\u001b[0m\n\u001b[0;32m-> 2139\u001b[0;31m             \u001b[0;32mraise\u001b[0m \u001b[0mIndexError\u001b[0m\u001b[0;34m(\u001b[0m\u001b[0;34m\"single positional indexer is out-of-bounds\"\u001b[0m\u001b[0;34m)\u001b[0m\u001b[0;34m\u001b[0m\u001b[0;34m\u001b[0m\u001b[0m\n\u001b[0m\u001b[1;32m   2140\u001b[0m \u001b[0;34m\u001b[0m\u001b[0m\n\u001b[1;32m   2141\u001b[0m     \u001b[0;32mdef\u001b[0m \u001b[0m_getitem_tuple\u001b[0m\u001b[0;34m(\u001b[0m\u001b[0mself\u001b[0m\u001b[0;34m,\u001b[0m \u001b[0mtup\u001b[0m\u001b[0;34m)\u001b[0m\u001b[0;34m:\u001b[0m\u001b[0;34m\u001b[0m\u001b[0;34m\u001b[0m\u001b[0m\n",
      "\u001b[0;31mIndexError\u001b[0m: single positional indexer is out-of-bounds"
     ]
    }
   ],
   "source": [
    "fig = plot_rank(288, 1, df_comm_rank=df_comm_rank_outlier, df1_copy=df1_copy_outlier) # FAIL\n",
    "# see figure from previous running of this NB"
   ]
  },
  {
   "cell_type": "code",
   "execution_count": 361,
   "metadata": {
    "scrolled": true
   },
   "outputs": [
    {
     "data": {
      "image/png": "[encoded data removed]",
      "text/plain": [
       "<Figure size 432x288 with 1 Axes>"
      ]
     },
     "metadata": {},
     "output_type": "display_data"
    }
   ],
   "source": [
    "fig = plot_rank(288, 2, df_comm_rank=df_comm_rank, df1_copy=df1_copy)"
   ]
  },
  {
   "cell_type": "markdown",
   "metadata": {},
   "source": [
    "### total time and scaling "
   ]
  },
  {
   "cell_type": "code",
   "execution_count": 31,
   "metadata": {},
   "outputs": [],
   "source": [
    "def plot_dataframe(df7, y, yerr, fig_name, ylabel, ylim, log, ax=None, **kwargs): \n",
    "    plt.style.use('ggplot')\n",
    "    sns.set_style('ticks')\n",
    "    plt.rcParams['font.size'] = 9\n",
    "    if ax is None:\n",
    "        fig = plt.figure(figsize=(4,4))\n",
    "        ax = fig.add_subplot(1,1,1)\n",
    "    else:\n",
    "        fig = ax.figure\n",
    "        \n",
    "    kwargs.setdefault(\"marker\", \"o\")\n",
    "    df7.plot(y=y, x='blocks', yerr=yerr, ax=ax, lw=2, label='Comet', **kwargs)\n",
    "    if (y == 'speed_up'):\n",
    "        df7.plot(y='Ideal_Scaling', x='blocks', ax=ax, linestyle='--', color='k', lw=2)\n",
    "    if (y == 'efficiency'):\n",
    "        df7.plot(y='Ideal_Efficiency', x='blocks', ax=ax, linestyle='--', color='k', lw=2)      \n",
    "        \n",
    "    ax.set_xlabel('$N_{Processes}$')   \n",
    "    ax.set_ylabel(ylabel)\n",
    "    if log:\n",
    "        ax.loglog([1, 400], [df7['t_tot_max'][0], df7['t_tot_max'][0]/400], '--', label='Ideal',color='black')\n",
    "        plt.yscale('log')\n",
    "        plt.xscale('log')  \n",
    "        ax.set_xlim([1,405])\n",
    "    else:\n",
    "        ax.set_xlim([1,400])\n",
    "        ax.set_ylim(ylim)    \n",
    "    \n",
    "    ax.yaxis.grid(which='major',linestyle=':', linewidth='0.5', color='black')\n",
    "    ax.xaxis.grid(which='major',linestyle=':', linewidth='0.5', color='black')\n",
    "    ax.yaxis.grid(which='minor',linestyle=':', linewidth='0.5', color='black')\n",
    "    ax.xaxis.grid(which='minor',linestyle=':', linewidth='0.5', color='black') \n",
    "    ax.legend().set_visible(False)\n",
    "    sns.despine(offset=10, ax=ax)\n",
    "    plt.tight_layout() \n",
    "    if fig_name is not None:\n",
    "        fig.savefig('{}.pdf'.format(fig_name))\n",
    "    return ax"
   ]
  },
  {
   "cell_type": "code",
   "execution_count": 32,
   "metadata": {
    "scrolled": false
   },
   "outputs": [
    {
     "data": {
      "image/png": "[encoded data removed]",
      "text/plain": [
       "<Figure size 288x288 with 1 Axes>"
      ]
     },
     "metadata": {},
     "output_type": "display_data"
    },
    {
     "data": {
      "image/png": "[encoded data removed]",
      "text/plain": [
       "<Figure size 288x288 with 1 Axes>"
      ]
     },
     "metadata": {},
     "output_type": "display_data"
    }
   ],
   "source": [
    "ax = plot_dataframe(df7, 'speed_up', 'std_S', 'hdf5-speed_up-no_outlier', r'Speed Up ($S=\\frac{t_{1}}{t_{N}}$)', [1,384], False)\n",
    "# plot_dataframe('efficiency', 'std_E', 'Efficiency', r'Efficiency ($\\frac{S}{N}$)', [0,1.1],False)\n",
    "# plot_dataframe('t_block_RMSD_mean', 'std_t_block_RMSD_mean' , 't_block_RMSD_mean', '$t_{RMSD}(s)$', [0,1050],True)\n",
    "# plot_dataframe('t_comm_mean', 'std_t_comm_mean' , 't_comm_mean', '$t_{communication}(s)$', [0,1],True)\n",
    "# plot_dataframe('t_block_RMSD_max', 'std_t_block_RMSD_max' , 't_block_RMSD_max', '$t_{RMSD}(s)$', [0,1050],True)\n",
    "ax = plot_dataframe(df7, 't_tot_max', 'std_tot_max', 'hdf5-t_total-no_outlier', 'Total time $t_{total}(s)$', [0,1050],True)"
   ]
  },
  {
   "cell_type": "code",
   "execution_count": 384,
   "metadata": {},
   "outputs": [
    {
     "data": {
      "text/html": [
       "<div>\n",
       "<style scoped>\n",
       "    .dataframe tbody tr th:only-of-type {\n",
       "        vertical-align: middle;\n",
       "    }\n",
       "\n",
       "    .dataframe tbody tr th {\n",
       "        vertical-align: top;\n",
       "    }\n",
       "\n",
       "    .dataframe thead th {\n",
       "        text-align: right;\n",
       "    }\n",
       "</style>\n",
       "<table border=\"1\" class=\"dataframe\">\n",
       "  <thead>\n",
       "    <tr style=\"text-align: right;\">\n",
       "      <th></th>\n",
       "      <th>blocks</th>\n",
       "      <th>repeat</th>\n",
       "      <th>P_ID</th>\n",
       "      <th>t_comp</th>\n",
       "      <th>t_IO</th>\n",
       "      <th>t_IO_plus_t_comp_mean</th>\n",
       "      <th>t_end_loop</th>\n",
       "      <th>t_init</th>\n",
       "      <th>t_IO_plus_t_comp_max</th>\n",
       "      <th>std_comp</th>\n",
       "      <th>...</th>\n",
       "      <th>std_t_comm_mean</th>\n",
       "      <th>std_t_comm_max</th>\n",
       "      <th>std_t_block_RMSD_mean</th>\n",
       "      <th>std_t_block_RMSD_max</th>\n",
       "      <th>speed_up</th>\n",
       "      <th>std_S</th>\n",
       "      <th>efficiency</th>\n",
       "      <th>std_E</th>\n",
       "      <th>Ideal_Scaling</th>\n",
       "      <th>Ideal_Efficiency</th>\n",
       "    </tr>\n",
       "  </thead>\n",
       "  <tbody>\n",
       "    <tr>\n",
       "      <th>0</th>\n",
       "      <td>288</td>\n",
       "      <td>1.0</td>\n",
       "      <td>143.5</td>\n",
       "      <td>0.800807</td>\n",
       "      <td>10.0918</td>\n",
       "      <td>10.905271</td>\n",
       "      <td>9.122822e-07</td>\n",
       "      <td>0.00011</td>\n",
       "      <td>18.457859</td>\n",
       "      <td>0.027472</td>\n",
       "      <td>...</td>\n",
       "      <td>NaN</td>\n",
       "      <td>NaN</td>\n",
       "      <td>NaN</td>\n",
       "      <td>NaN</td>\n",
       "      <td>35.306965</td>\n",
       "      <td>NaN</td>\n",
       "      <td>0.122594</td>\n",
       "      <td>NaN</td>\n",
       "      <td>288</td>\n",
       "      <td>1.0</td>\n",
       "    </tr>\n",
       "  </tbody>\n",
       "</table>\n",
       "<p>1 rows × 27 columns</p>\n",
       "</div>"
      ],
      "text/plain": [
       "   blocks  repeat   P_ID    t_comp     t_IO  t_IO_plus_t_comp_mean  \\\n",
       "0     288     1.0  143.5  0.800807  10.0918              10.905271   \n",
       "\n",
       "     t_end_loop   t_init  t_IO_plus_t_comp_max  std_comp  ...  \\\n",
       "0  9.122822e-07  0.00011             18.457859  0.027472  ...   \n",
       "\n",
       "   std_t_comm_mean  std_t_comm_max  std_t_block_RMSD_mean  \\\n",
       "0              NaN             NaN                    NaN   \n",
       "\n",
       "   std_t_block_RMSD_max   speed_up  std_S  efficiency  std_E  Ideal_Scaling  \\\n",
       "0                   NaN  35.306965    NaN    0.122594    NaN            288   \n",
       "\n",
       "   Ideal_Efficiency  \n",
       "0               1.0  \n",
       "\n",
       "[1 rows x 27 columns]"
      ]
     },
     "execution_count": 384,
     "metadata": {},
     "output_type": "execute_result"
    }
   ],
   "source": [
    "df7_outlier"
   ]
  },
  {
   "cell_type": "code",
   "execution_count": 34,
   "metadata": {},
   "outputs": [
    {
     "name": "stderr",
     "output_type": "stream",
     "text": [
      "/Users/oliver/anaconda3/envs/mda3/lib/python3.6/site-packages/pandas/plotting/_core.py:1001: UserWarning: Attempting to set identical left == right == 288.0 results in singular transformations; automatically expanding.\n",
      "  ax.set_xlim(left, right)\n"
     ]
    },
    {
     "data": {
      "image/png": "[encoded data removed]",
      "text/plain": [
       "<Figure size 288x288 with 1 Axes>"
      ]
     },
     "metadata": {},
     "output_type": "display_data"
    }
   ],
   "source": [
    "fig = plt.figure(figsize=(4,4))\n",
    "ax1 = fig.add_subplot(1,1,1)\n",
    "ax1 = df7_outlier.plot(x=\"blocks\", y='speed_up', color=\"r\", marker=\"x\", legend=None, ax=ax1)\n",
    "ax = plot_dataframe(df7, 'speed_up', 'std_S', 'hdf5-speed_up-combined', r'Speed Up ($S=\\frac{t_{1}}{t_{N}}$)', [1,384], False, \n",
    "                    legend=None, ax=ax1)\n",
    "#ax.legend().set_visible(False)"
   ]
  },
  {
   "cell_type": "code",
   "execution_count": 35,
   "metadata": {},
   "outputs": [
    {
     "name": "stderr",
     "output_type": "stream",
     "text": [
      "/Users/oliver/anaconda3/envs/mda3/lib/python3.6/site-packages/pandas/plotting/_core.py:1001: UserWarning: Attempting to set identical left == right == 288.0 results in singular transformations; automatically expanding.\n",
      "  ax.set_xlim(left, right)\n"
     ]
    },
    {
     "data": {
      "image/png": "[encoded data removed]",
      "text/plain": [
       "<Figure size 288x288 with 1 Axes>"
      ]
     },
     "metadata": {},
     "output_type": "display_data"
    }
   ],
   "source": [
    "fig = plt.figure(figsize=(4,4))\n",
    "ax1 = fig.add_subplot(1,1,1)\n",
    "ax1 = df7_outlier.plot(x=\"blocks\", y='t_tot_max', color=\"r\", marker=\"x\", legend=None, ax=ax1)\n",
    "ax = plot_dataframe(df7, 't_tot_max', 'std_tot_max', 'hdf5-t_total-combined', 'Total time $t_{total}(s)$', [0,1050],True, ax=ax1)"
   ]
  },
  {
   "cell_type": "code",
   "execution_count": null,
   "metadata": {},
   "outputs": [],
   "source": []
  }
 ],
 "metadata": {
  "anaconda-cloud": {},
  "kernelspec": {
   "display_name": "Python 3",
   "language": "python",
   "name": "python3"
  },
  "language_info": {
   "codemirror_mode": {
    "name": "ipython",
    "version": 3
   },
   "file_extension": ".py",
   "mimetype": "text/x-python",
   "name": "python",
   "nbconvert_exporter": "python",
   "pygments_lexer": "ipython3",
   "version": "3.6.7"
  }
 },
 "nbformat": 4,
 "nbformat_minor": 2
}
